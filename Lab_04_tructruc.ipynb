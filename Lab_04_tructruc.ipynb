{
  "cells": [
    {
      "cell_type": "code",
      "execution_count": null,
      "metadata": {
        "id": "YofzyFilWigx"
      },
      "outputs": [],
      "source": [
        "import math\n",
        "import numpy as np\n",
        "import pandas as pd\n",
        "import scipy"
      ]
    },
    {
      "cell_type": "markdown",
      "metadata": {
        "id": "BcZS__1yWv0A"
      },
      "source": [
        "## Bài tập"
      ]
    },
    {
      "cell_type": "code",
      "execution_count": null,
      "metadata": {
        "id": "FjIc8b_elVnM"
      },
      "outputs": [],
      "source": [
        "from google.colab import drive\n",
        "drive.mount('/content/drive')"
      ]
    },
    {
      "cell_type": "code",
      "execution_count": null,
      "metadata": {
        "id": "07hJgAaultf9"
      },
      "outputs": [],
      "source": [
        "path = \"/content/drive/MyDrive/XLDLTK/bank2.xls\""
      ]
    },
    {
      "cell_type": "code",
      "execution_count": null,
      "metadata": {
        "id": "GOe7ZdpPctnJ"
      },
      "outputs": [],
      "source": [
        "from pandas import ExcelFile"
      ]
    },
    {
      "cell_type": "code",
      "execution_count": 1,
      "metadata": {
        "id": "dLvGMl3aWklt"
      },
      "outputs": [],
      "source": [
        "#load data\n",
        "def load_data(path):\n",
        "    data = pd.read_excel(path,header = None)\n",
        "    return data.iloc[1:,:]"
      ]
    },
    {
      "cell_type": "code",
      "execution_count": 2,
      "metadata": {
        "id": "U5_kk9kET3jJ"
      },
      "outputs": [
        {
          "ename": "NameError",
          "evalue": "name 'path' is not defined",
          "output_type": "error",
          "traceback": [
            "\u001b[1;31m---------------------------------------------------------------------------\u001b[0m",
            "\u001b[1;31mNameError\u001b[0m                                 Traceback (most recent call last)",
            "\u001b[1;32md:\\1111111111111111\\Lab_04_tructruc.ipynb Cell 7\u001b[0m in \u001b[0;36m<cell line: 1>\u001b[1;34m()\u001b[0m\n\u001b[1;32m----> <a href='vscode-notebook-cell:/d%3A/1111111111111111/Lab_04_tructruc.ipynb#W6sZmlsZQ%3D%3D?line=0'>1</a>\u001b[0m df \u001b[39m=\u001b[39m load_data(path)\n\u001b[0;32m      <a href='vscode-notebook-cell:/d%3A/1111111111111111/Lab_04_tructruc.ipynb#W6sZmlsZQ%3D%3D?line=1'>2</a>\u001b[0m df\n",
            "\u001b[1;31mNameError\u001b[0m: name 'path' is not defined"
          ]
        }
      ],
      "source": [
        "df = load_data(path)\n",
        "df"
      ]
    },
    {
      "cell_type": "code",
      "execution_count": 3,
      "metadata": {
        "id": "HrBsJuwDUwhw"
      },
      "outputs": [
        {
          "ename": "NameError",
          "evalue": "name 'df' is not defined",
          "output_type": "error",
          "traceback": [
            "\u001b[1;31m---------------------------------------------------------------------------\u001b[0m",
            "\u001b[1;31mNameError\u001b[0m                                 Traceback (most recent call last)",
            "\u001b[1;32md:\\1111111111111111\\Lab_04_tructruc.ipynb Cell 8\u001b[0m in \u001b[0;36m<cell line: 1>\u001b[1;34m()\u001b[0m\n\u001b[1;32m----> <a href='vscode-notebook-cell:/d%3A/1111111111111111/Lab_04_tructruc.ipynb#X10sZmlsZQ%3D%3D?line=0'>1</a>\u001b[0m df\u001b[39m.\u001b[39mshape\n",
            "\u001b[1;31mNameError\u001b[0m: name 'df' is not defined"
          ]
        }
      ],
      "source": [
        "df.shape"
      ]
    },
    {
      "cell_type": "code",
      "execution_count": 4,
      "metadata": {
        "id": "kp5vXkrZU2mN"
      },
      "outputs": [],
      "source": [
        "def matrix_dot(a, b):\n",
        "    return [[sum(a[i][k] * b[k][j] for k in range(len(a[0]))) for j in range(len(b[0]))] for i in range(len(a))]\n",
        "    \n",
        "def matrix_sub(a, b):\n",
        "    return [[a[i][j] - b[i][j] for j in range(len(a[0]))] for i in range(len(a))]\n",
        "\n",
        "def matrix_transpose(a):\n",
        "    return [[a[i][j] for i in range(len(a))] for j in range(len(a[0]))]\n",
        "def matrix_shape(a):\n",
        "    return (len(a), len(a[0]))\n",
        "def matrix_divide(a, b):\n",
        "    return [[a[i][j] / b for j in range(len(a[0]))] for i in range(len(a))]"
      ]
    },
    {
      "cell_type": "code",
      "execution_count": 5,
      "metadata": {
        "id": "nGFFK5-xU6wd"
      },
      "outputs": [],
      "source": [
        "def mean(A):\n",
        "    return (1/len(A))*sum(A)"
      ]
    },
    {
      "cell_type": "code",
      "execution_count": 6,
      "metadata": {
        "id": "01FAppMzU9Jx"
      },
      "outputs": [
        {
          "ename": "NameError",
          "evalue": "name 'df' is not defined",
          "output_type": "error",
          "traceback": [
            "\u001b[1;31m---------------------------------------------------------------------------\u001b[0m",
            "\u001b[1;31mNameError\u001b[0m                                 Traceback (most recent call last)",
            "\u001b[1;32md:\\1111111111111111\\Lab_04_tructruc.ipynb Cell 11\u001b[0m in \u001b[0;36m<cell line: 2>\u001b[1;34m()\u001b[0m\n\u001b[0;32m      <a href='vscode-notebook-cell:/d%3A/1111111111111111/Lab_04_tructruc.ipynb#X13sZmlsZQ%3D%3D?line=0'>1</a>\u001b[0m mean_list \u001b[39m=\u001b[39m []\n\u001b[1;32m----> <a href='vscode-notebook-cell:/d%3A/1111111111111111/Lab_04_tructruc.ipynb#X13sZmlsZQ%3D%3D?line=1'>2</a>\u001b[0m \u001b[39mfor\u001b[39;00m i \u001b[39min\u001b[39;00m \u001b[39mrange\u001b[39m(\u001b[39mlen\u001b[39m(df\u001b[39m.\u001b[39mcolumns)):\n\u001b[0;32m      <a href='vscode-notebook-cell:/d%3A/1111111111111111/Lab_04_tructruc.ipynb#X13sZmlsZQ%3D%3D?line=2'>3</a>\u001b[0m       mean_list\u001b[39m.\u001b[39mappend([mean(df[i])])\n",
            "\u001b[1;31mNameError\u001b[0m: name 'df' is not defined"
          ]
        }
      ],
      "source": [
        "mean_list = []\n",
        "for i in range(len(df.columns)):\n",
        "      mean_list.append([mean(df[i])])"
      ]
    },
    {
      "cell_type": "code",
      "execution_count": 7,
      "metadata": {
        "id": "wjXkaMTgVCKj"
      },
      "outputs": [],
      "source": [
        "from scipy.linalg import eig"
      ]
    },
    {
      "cell_type": "code",
      "execution_count": null,
      "metadata": {
        "id": "L3rmLCM0VJE4"
      },
      "outputs": [],
      "source": []
    },
    {
      "cell_type": "code",
      "execution_count": null,
      "metadata": {
        "id": "MdtA9YY2VNLe"
      },
      "outputs": [],
      "source": [
        "def sorts(A):\n",
        "    n = len(A)\n",
        "    for i in range(n):\n",
        "      for j in range(0, n-i-1):\n",
        "        if A[j] > A[j+1]:\n",
        "            A[j], A[j+1] = A[j+1], A[j]\n",
        "    return A"
      ]
    },
    {
      "cell_type": "code",
      "execution_count": null,
      "metadata": {
        "id": "1Lrkr6kTVQ6f"
      },
      "outputs": [],
      "source": [
        "def PCA(path,percent):\n",
        "    data = load_data(path)\n",
        "    X = data.values.tolist()\n",
        "    row, col = df.shape\n",
        "    mean_list = []\n",
        "    for i in range(len(data.columns)):\n",
        "      mean_list.append([mean(data[i])])\n",
        "    h = [[1] for _ in range(row)]\n",
        "    h_dot_mu = matrix_dot(h,matrix_transpose(mean_list))\n",
        "    beta = matrix_sub(X,h_dot_mu)\n",
        "    cov = matrix_dot(matrix_transpose(beta),beta)\n",
        "    cov = matrix_divide(cov,row)\n",
        "    values, vec = eig(cov)\n",
        "    values = [float(values[i]) for i in range(len(values))]\n",
        "    vec = vec.tolist()\n",
        "    idx = [i for i in range(len(values))]\n",
        "    idx.sort(key=lambda i: values[i], reverse=True)\n",
        "    values = [values[i] for i in idx]\n",
        "    vec = matrix_transpose(vec)\n",
        "    vec = [vec[i] for i in idx]\n",
        "    A = sum(values)\n",
        "    sum_v = 0\n",
        "    for i in range(col):\n",
        "      sum_v += values[i]/A\n",
        "      if sum_v >= percent:\n",
        "        i= i+1\n",
        "        break\n",
        "    w = []\n",
        "    for j in range(i):\n",
        "      w.append(vec[j])\n",
        "    return matrix_dot(beta,matrix_transpose(w))\n",
        "    "
      ]
    },
    {
      "cell_type": "code",
      "execution_count": null,
      "metadata": {
        "id": "TvQUMsPVVTwx"
      },
      "outputs": [],
      "source": [
        "PCA(path,0.9)"
      ]
    },
    {
      "cell_type": "code",
      "execution_count": null,
      "metadata": {
        "id": "bzdgokkHowFF"
      },
      "outputs": [],
      "source": []
    }
  ],
  "metadata": {
    "colab": {
      "collapsed_sections": [],
      "private_outputs": true,
      "provenance": []
    },
    "kernelspec": {
      "display_name": "Python 3.9.12 ('base')",
      "language": "python",
      "name": "python3"
    },
    "language_info": {
      "codemirror_mode": {
        "name": "ipython",
        "version": 3
      },
      "file_extension": ".py",
      "mimetype": "text/x-python",
      "name": "python",
      "nbconvert_exporter": "python",
      "pygments_lexer": "ipython3",
      "version": "3.9.12"
    },
    "vscode": {
      "interpreter": {
        "hash": "5179d32cf6ec497baf3f8a3ef987cc77c5d2dc691fdde20a56316522f61a7323"
      }
    }
  },
  "nbformat": 4,
  "nbformat_minor": 0
}
