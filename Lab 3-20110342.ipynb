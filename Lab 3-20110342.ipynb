{
 "cells": [
  {
   "cell_type": "markdown",
   "id": "f1917c9d-9e77-40b0-98b4-dd7bd4833268",
   "metadata": {},
   "source": [
    "<h1 align=\"center\">Random-Number Generation</h1>"
   ]
  },
  {
   "cell_type": "markdown",
   "id": "d1cb1df0-9943-4cc3-852e-63e91d4890ee",
   "metadata": {},
   "source": [
    "We now take a brief diversion into a popular type of programming application — simulation and game playing. You can introduce the element of chance via the Python Standard Library’s <b>random</b> module."
   ]
  },
  {
   "cell_type": "markdown",
   "id": "1c0403e9-e739-43e2-b9e7-6f1a9601a3d6",
   "metadata": {},
   "source": [
    "#### Rolling a Six-Sided Die"
   ]
  },
  {
   "cell_type": "markdown",
   "id": "222c460e-18d4-4d69-921e-077b7f6a7329",
   "metadata": {},
   "source": [
    "Let’s produce 10 random integers in the range 1–6 to simulate rolling a six-sided die.\n",
    "\n",
    "First, we import <b>random</b> so we can use the module’s capabilities. The <b>randrange</b> function generates an integer from the first argument value up to, but not including, the second argument value."
   ]
  },
  {
   "cell_type": "code",
   "execution_count": 24,
   "id": "a423c6ab-03c8-4414-8ce3-fb6c5572f975",
   "metadata": {},
   "outputs": [],
   "source": [
    "import random"
   ]
  },
  {
   "cell_type": "code",
   "execution_count": 25,
   "id": "9607075a-003c-4e50-9ce1-6eef76279050",
   "metadata": {},
   "outputs": [
    {
     "name": "stdout",
     "output_type": "stream",
     "text": [
      "4\n",
      "1\n",
      "2\n",
      "3\n",
      "1\n",
      "5\n",
      "6\n",
      "1\n",
      "1\n",
      "3\n"
     ]
    }
   ],
   "source": [
    "for i in range (10):\n",
    "        print(random.randrange(1, 7))"
   ]
  },
  {
   "cell_type": "markdown",
   "id": "4e4c28f5-2bf5-4378-b085-bf5c2ab2f10b",
   "metadata": {},
   "source": [
    "#### Rolling a Six-Sided Die 6,000,000 Times"
   ]
  },
  {
   "cell_type": "markdown",
   "id": "5bb55713-4328-4f83-adfb-f377900df4c3",
   "metadata": {},
   "source": [
    "If randrange truly produces integers at random, every number in its range has an equal <b>probability</b> of being returned each time we call it. To show that the die faces 1–6 occur with equal likelihood, the following script simulates 6,000,000 die rolls."
   ]
  },
  {
   "cell_type": "markdown",
   "id": "126282a1",
   "metadata": {},
   "source": []
  },
  {
   "cell_type": "code",
   "execution_count": 21,
   "id": "27b7f4c1-7803-44e0-995e-8e5b05c9f47a",
   "metadata": {},
   "outputs": [],
   "source": [
    "import random"
   ]
  },
  {
   "cell_type": "code",
   "execution_count": 26,
   "id": "4a6ac8e2-3089-4a6b-820b-a14ca62f91f2",
   "metadata": {},
   "outputs": [
    {
     "name": "stdout",
     "output_type": "stream",
     "text": [
      "Mặt 1 có số lần xuât hiện là 999178\n",
      "Mặt 2 có số lần xuât hiện là 1001042\n",
      "Mặt 3 có số lần xuât hiện là 998547\n",
      "Mặt 4 có số lần xuât hiện là 1000271\n",
      "Mặt 5 có số lần xuât hiện là 1001599\n",
      "Mặt 6 có số lần xuât hiện là 999363\n"
     ]
    }
   ],
   "source": [
    "freq1 = 0\n",
    "freq2 = 0\n",
    "freq3 = 0\n",
    "freq4 = 0\n",
    "freq5 = 0\n",
    "freq6 = 0\n",
    "for roll in range (6000000):\n",
    "    faces = random.randrange(1,7)\n",
    "    if (faces == 1):\n",
    "        freq1 +=1\n",
    "    if (faces == 2):\n",
    "        freq2 +=1\n",
    "    if (faces == 3):\n",
    "        freq3 +=1\n",
    "    if (faces == 4):\n",
    "        freq4 +=1\n",
    "    if (faces == 5):\n",
    "        freq5 +=1\n",
    "    if (faces == 6):\n",
    "        freq6 +=1\n",
    "print(f'Mặt 1 có số lần xuât hiện là {freq1}')\n",
    "print(f'Mặt 2 có số lần xuât hiện là {freq2}')\n",
    "print(f'Mặt 3 có số lần xuât hiện là {freq3}')\n",
    "print(f'Mặt 4 có số lần xuât hiện là {freq4}')\n",
    "print(f'Mặt 5 có số lần xuât hiện là {freq5}')\n",
    "print(f'Mặt 6 có số lần xuât hiện là {freq6}')"
   ]
  },
  {
   "cell_type": "code",
   "execution_count": null,
   "id": "1080c5c6-4d68-4219-a098-40644d637bda",
   "metadata": {},
   "outputs": [],
   "source": []
  }
 ],
 "metadata": {
  "kernelspec": {
   "display_name": "Python 3 (ipykernel)",
   "language": "python",
   "name": "python3"
  },
  "language_info": {
   "codemirror_mode": {
    "name": "ipython",
    "version": 3
   },
   "file_extension": ".py",
   "mimetype": "text/x-python",
   "name": "python",
   "nbconvert_exporter": "python",
   "pygments_lexer": "ipython3",
   "version": "3.9.7"
  }
 },
 "nbformat": 4,
 "nbformat_minor": 5
}
