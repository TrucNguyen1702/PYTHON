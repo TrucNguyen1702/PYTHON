{
 "cells": [
  {
   "cell_type": "markdown",
   "id": "f1917c9d-9e77-40b0-98b4-dd7bd4833268",
   "metadata": {},
   "source": [
    "<h1 align=\"center\">Basic Descriptive Statistics</h1>"
   ]
  },
  {
   "cell_type": "markdown",
   "id": "d1cb1df0-9943-4cc3-852e-63e91d4890ee",
   "metadata": {},
   "source": [
    "In data science, you’ll often use statistics to describe and summarize your data. Here, we begin by introducing several such <b>descriptive statistics</b>, including:\n",
    "\n",
    "• minimum—the smallest value in a collection of values.\n",
    "\n",
    "• maximum—the largest value in a collection of values.\n",
    "\n",
    "• range—the range of values from the minimum to the maximum.\n",
    "\n",
    "• count—the number of values in a collection.\n",
    "\n",
    "• sum—the total of the values in a collection.\n"
   ]
  },
  {
   "cell_type": "markdown",
   "id": "e7b804f0-9321-4b82-82e1-2fa2c547dae9",
   "metadata": {},
   "source": [
    "## 1.1 Determining the Minimum of Three Values"
   ]
  },
  {
   "cell_type": "markdown",
   "id": "1c0403e9-e739-43e2-b9e7-6f1a9601a3d6",
   "metadata": {},
   "source": [
    "First, let’s show how to determine the minimum of three values manually. The following script prompts for and inputs three values, uses if statements to determine the minimum value, then displays it."
   ]
  },
  {
   "cell_type": "code",
   "execution_count": 13,
   "id": "a2aab747-5728-4d6c-b530-a52fcc138161",
   "metadata": {},
   "outputs": [],
   "source": [
    "def find_minimum(v1, v2, v3):\n",
    "    Min = v1\n",
    "    if (v2 < Min):\n",
    "        Min = v2\n",
    "        if (v3 < Min):\n",
    "            Min = v3\n",
    "            \n",
    "    elif (v3 < Min):\n",
    "        Min = v3\n",
    "        if (v2 < Min):\n",
    "            Min = v2\n",
    "        \n",
    "    return Min\n",
    "    "
   ]
  },
  {
   "cell_type": "code",
   "execution_count": 17,
   "id": "c277d988-7e55-4f57-b59d-c522afb44369",
   "metadata": {},
   "outputs": [
    {
     "name": "stdin",
     "output_type": "stream",
     "text": [
      "Enter the first number:  1\n",
      "Enter the second number:  2\n",
      "Enter the third number:  3\n"
     ]
    },
    {
     "name": "stdout",
     "output_type": "stream",
     "text": [
      "1\n"
     ]
    }
   ],
   "source": [
    "v1 = input(\"Enter the first number: \")\n",
    "v2 = input(\"Enter the second number: \")\n",
    "v3 = input(\"Enter the third number: \")\n",
    "\n",
    "print(find_minimum(v1,v2,v3))"
   ]
  },
  {
   "cell_type": "markdown",
   "id": "f1373104-f353-42f5-b57e-33067a742d67",
   "metadata": {},
   "source": [
    "## 1.2 Determining the Minimum and Maximum with Built-In Functions min and max"
   ]
  },
  {
   "cell_type": "markdown",
   "id": "4e4c28f5-2bf5-4378-b085-bf5c2ab2f10b",
   "metadata": {},
   "source": [
    "Python has many built-in functions for performing common tasks. Built-in functions min and max calculate the minimum and maximum, respectively, of a collection of values:"
   ]
  },
  {
   "cell_type": "code",
   "execution_count": 42,
   "id": "5aa4b13b-c0a8-41ff-b9dd-1d23bce0a591",
   "metadata": {},
   "outputs": [
    {
     "name": "stdout",
     "output_type": "stream",
     "text": [
      "gia tri nho nhat la: 1\n",
      "gia tri lon nhat la: 8\n"
     ]
    }
   ],
   "source": [
    "values = [3, 2, 3, 1, 6, 8]\n",
    "print(\"gia tri nho nhat la:\", min(values))\n",
    "print(\"gia tri lon nhat la:\", max(values))"
   ]
  },
  {
   "cell_type": "code",
   "execution_count": 4,
   "id": "40667905-d193-4501-9980-5a9716d26665",
   "metadata": {},
   "outputs": [
    {
     "data": {
      "text/plain": [
       "1"
      ]
     },
     "execution_count": 4,
     "metadata": {},
     "output_type": "execute_result"
    }
   ],
   "source": [
    "min(2,1,3)"
   ]
  },
  {
   "cell_type": "code",
   "execution_count": 36,
   "id": "be26cb46-b8f7-4438-9a4a-2d72b66865f4",
   "metadata": {},
   "outputs": [
    {
     "data": {
      "text/plain": [
       "6"
      ]
     },
     "execution_count": 36,
     "metadata": {},
     "output_type": "execute_result"
    }
   ],
   "source": [
    "len(values)"
   ]
  },
  {
   "cell_type": "code",
   "execution_count": 38,
   "id": "77b8d409-333d-41fe-8795-57644d59d3e3",
   "metadata": {},
   "outputs": [
    {
     "name": "stdout",
     "output_type": "stream",
     "text": [
      "0 3\n",
      "1 2\n",
      "2 3\n",
      "3 1\n",
      "4 6\n",
      "5 8\n"
     ]
    }
   ],
   "source": [
    "for i in range(len(values)):\n",
    "    # print(i, end = \" \")\n",
    "    print(i,values[i])"
   ]
  },
  {
   "cell_type": "code",
   "execution_count": null,
   "id": "3f70e9f4-7ade-4b65-acd6-f8452e02482b",
   "metadata": {},
   "outputs": [],
   "source": []
  },
  {
   "cell_type": "code",
   "execution_count": 45,
   "id": "7d5ab78c-0f08-49f3-a444-a469a2b44a5c",
   "metadata": {},
   "outputs": [
    {
     "data": {
      "text/plain": [
       "1"
      ]
     },
     "execution_count": 45,
     "metadata": {},
     "output_type": "execute_result"
    }
   ],
   "source": [
    "def Min(values):\n",
    "    for i in range(len(values)) :\n",
    "        Min = values[i]\n",
    "        for j in range(len(values)):\n",
    "            if (values[j] < Min):\n",
    "                Min = values[j]\n",
    "                    \n",
    "    return Min \n",
    "\n",
    "Min(values)"
   ]
  },
  {
   "cell_type": "markdown",
   "id": "15cf2ae3-10d3-47bd-8c07-9b2890b8c335",
   "metadata": {},
   "source": [
    "## 1.3 Determining the Range of a Collection of Values"
   ]
  },
  {
   "cell_type": "markdown",
   "id": "5bb55713-4328-4f83-adfb-f377900df4c3",
   "metadata": {},
   "source": [
    "The range of values is simply the minimum through the maximum value. In this case, the range is 12 through 36. Much data science is devoted to getting to know your data. Descriptive statistics is a crucial part of that, but you also have to understand how to inter- pret the statistics. For example, if you have 100 numbers with a range of 12 through 36, those numbers could be distributed evenly over that range. At the opposite extreme, you could have clumping with 99 values of 12 and one 36, or one 12 and 99 values of 36."
   ]
  },
  {
   "cell_type": "code",
   "execution_count": 50,
   "id": "aabb83d6-76dc-4ea9-b850-abb450ff7945",
   "metadata": {},
   "outputs": [
    {
     "name": "stdout",
     "output_type": "stream",
     "text": [
      "12\n",
      "13\n",
      "14\n",
      "15\n",
      "16\n",
      "17\n",
      "18\n",
      "19\n",
      "20\n",
      "21\n",
      "22\n",
      "23\n",
      "24\n",
      "25\n",
      "26\n",
      "27\n",
      "28\n",
      "29\n",
      "30\n",
      "31\n",
      "32\n",
      "33\n",
      "34\n",
      "35\n",
      "36\n"
     ]
    }
   ],
   "source": [
    "def taomang100so(n):\n",
    "    n[] = size (100)\n",
    "    if n[i] = size(100):\n",
    "        for i in range(12, 36):\n",
    "            print(i)\n",
    "    else:\n",
    "        for i in range(12,36)\n",
    "            \n"
   ]
  },
  {
   "cell_type": "code",
   "execution_count": 53,
   "id": "09657bcc-58a3-4cd8-95a7-fce545e17d60",
   "metadata": {},
   "outputs": [
    {
     "name": "stdout",
     "output_type": "stream",
     "text": [
      "12\n",
      "13\n",
      "14\n",
      "15\n",
      "16\n",
      "17\n",
      "18\n",
      "19\n",
      "20\n",
      "21\n",
      "22\n",
      "23\n",
      "24\n",
      "25\n",
      "26\n",
      "27\n",
      "28\n",
      "29\n",
      "30\n",
      "31\n",
      "32\n",
      "33\n",
      "34\n",
      "35\n"
     ]
    }
   ],
   "source": [
    "for i in range(12, 36):\n",
    "        print(i)"
   ]
  }
 ],
 "metadata": {
  "kernelspec": {
   "display_name": "Python 3 (ipykernel)",
   "language": "python",
   "name": "python3"
  },
  "language_info": {
   "codemirror_mode": {
    "name": "ipython",
    "version": 3
   },
   "file_extension": ".py",
   "mimetype": "text/x-python",
   "name": "python",
   "nbconvert_exporter": "python",
   "pygments_lexer": "ipython3",
   "version": "3.11.4"
  }
 },
 "nbformat": 4,
 "nbformat_minor": 5
}
