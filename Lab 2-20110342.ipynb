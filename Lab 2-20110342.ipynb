{
 "cells": [
  {
   "cell_type": "markdown",
   "id": "f1917c9d-9e77-40b0-98b4-dd7bd4833268",
   "metadata": {},
   "source": [
    "<h1 align=\"center\">Measures of Central Tendency — Mean, Median and Mode</h1>"
   ]
  },
  {
   "cell_type": "markdown",
   "id": "d1cb1df0-9943-4cc3-852e-63e91d4890ee",
   "metadata": {},
   "source": [
    "Here we continue our discussion of using statistics to analyze data with several additional descriptive statistics, including:\n",
    "\n",
    "• mean—the average value in a set of values.\n",
    "\n",
    "• median—the middle value when all the values are arranged in sorted order.\n",
    "\n",
    "• mode—the most frequently occurring value.\n",
    "\n",
    "These are <b>measures of central tendency</b> — each is a way of producing a single value that represents a “central” value in a set of values, i.e., a value which is in some sense typical of the others.\n"
   ]
  },
  {
   "cell_type": "markdown",
   "id": "1c0403e9-e739-43e2-b9e7-6f1a9601a3d6",
   "metadata": {},
   "source": [
    "Let’s calculate the mean, median and mode on a list of integers. The following session creates a list called grades, then uses the built-in sum and len functions to calculate the mean “by hand”."
   ]
  },
  {
   "cell_type": "code",
   "execution_count": 2,
   "id": "a2aab747-5728-4d6c-b530-a52fcc138161",
   "metadata": {},
   "outputs": [],
   "source": [
    "grades = [85, 93, 45, 89, 85]"
   ]
  },
  {
   "cell_type": "code",
   "execution_count": 6,
   "id": "a423c6ab-03c8-4414-8ce3-fb6c5572f975",
   "metadata": {},
   "outputs": [
    {
     "name": "stdout",
     "output_type": "stream",
     "text": [
      "79.4\n"
     ]
    }
   ],
   "source": [
    "sum(grades)\n",
    "mean = sum(grades)/len(grades)\n",
    "print(mean)"
   ]
  },
  {
   "cell_type": "markdown",
   "id": "4e4c28f5-2bf5-4378-b085-bf5c2ab2f10b",
   "metadata": {},
   "source": [
    "Python has many built-in functions for performing common tasks. Built-in functions min and max calculate the minimum and maximum, respectively, of a collection of values:"
   ]
  },
  {
   "cell_type": "code",
   "execution_count": 2,
   "id": "27b7f4c1-7803-44e0-995e-8e5b05c9f47a",
   "metadata": {},
   "outputs": [],
   "source": [
    "import statistics"
   ]
  },
  {
   "cell_type": "code",
   "execution_count": 3,
   "id": "8eb3ff57-9d53-4e84-9971-27b78bfd5ac8",
   "metadata": {},
   "outputs": [
    {
     "data": {
      "text/plain": [
       "79.4"
      ]
     },
     "execution_count": 3,
     "metadata": {},
     "output_type": "execute_result"
    }
   ],
   "source": [
    "statistics.mean(grades)"
   ]
  },
  {
   "cell_type": "code",
   "execution_count": 4,
   "id": "47ffa82f-006a-4b2f-a64d-6a2b79e7b98e",
   "metadata": {},
   "outputs": [
    {
     "data": {
      "text/plain": [
       "85"
      ]
     },
     "execution_count": 4,
     "metadata": {},
     "output_type": "execute_result"
    }
   ],
   "source": [
    "statistics.median(grades)"
   ]
  },
  {
   "cell_type": "code",
   "execution_count": 5,
   "id": "7b8f54eb-1fe5-40bd-99f1-4ee3d6759150",
   "metadata": {},
   "outputs": [
    {
     "data": {
      "text/plain": [
       "85"
      ]
     },
     "execution_count": 5,
     "metadata": {},
     "output_type": "execute_result"
    }
   ],
   "source": [
    "statistics.mode(grades)"
   ]
  },
  {
   "cell_type": "markdown",
   "id": "91e90fc4-e531-4305-9c15-0aae0e784485",
   "metadata": {},
   "source": [
    "Each function’s argument must be an iterable — in this case, the list grades. To confirm that the median and mode are correct, you can use the built-in sorted function to get a copy of grades with its values arranged in increasing order:"
   ]
  },
  {
   "cell_type": "code",
   "execution_count": 6,
   "id": "f9bdf5f5-3410-4c70-9aa0-525f61f3eb43",
   "metadata": {},
   "outputs": [
    {
     "data": {
      "text/plain": [
       "[45, 85, 85, 89, 93]"
      ]
     },
     "execution_count": 6,
     "metadata": {},
     "output_type": "execute_result"
    }
   ],
   "source": [
    "sorted(grades)"
   ]
  },
  {
   "cell_type": "markdown",
   "id": "02ffed29-0799-4afe-a12a-ed0d4f18f051",
   "metadata": {},
   "source": [
    "The grades list has an odd number of values (5), so median returns the middle value (85). If the list’s number of values is even, median returns the average of the two middle values. Studying the sorted values, you can see that 85 is the mode because it occurs most frequently (twice)."
   ]
  }
 ],
 "metadata": {
  "kernelspec": {
   "display_name": "Python 3 (ipykernel)",
   "language": "python",
   "name": "python3"
  },
  "language_info": {
   "codemirror_mode": {
    "name": "ipython",
    "version": 3
   },
   "file_extension": ".py",
   "mimetype": "text/x-python",
   "name": "python",
   "nbconvert_exporter": "python",
   "pygments_lexer": "ipython3",
   "version": "3.9.7"
  }
 },
 "nbformat": 4,
 "nbformat_minor": 5
}
