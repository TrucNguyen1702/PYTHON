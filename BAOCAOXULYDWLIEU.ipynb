{
 "cells": [
  {
   "cell_type": "markdown",
   "id": "9d529924",
   "metadata": {},
   "source": [
    "# **2 Training Simple Machine Learning Algorithms for Classification**"
   ]
  },
  {
   "cell_type": "markdown",
   "id": "5f7a351b",
   "metadata": {},
   "source": [
    "Ở chương này, chúng ta sẽ sử dụng hai trong số các thuật toán máy học đầu tiên để phân loại là : **perceptron** và **adaptive linear neurons**"
   ]
  },
  {
   "cell_type": "markdown",
   "id": "ec0678e8",
   "metadata": {},
   "source": [
    "Những nội dung tổng quát trong chương hai bao gồm :"
   ]
  },
  {
   "cell_type": "markdown",
   "id": "6ddba158",
   "metadata": {},
   "source": [
    "\n",
    "+ Xây dựng trực giác cho các thuật toán machine learning\n",
    "+ Sử dụng pandas, NumPy và Matplotlib để đọc, xử lý và trực quan hóa dữ liệu\n",
    "+ Thực hiện các thuật toán quy hoạch tuyến tính trong Python"
   ]
  },
  {
   "cell_type": "markdown",
   "id": "ded070ee",
   "metadata": {},
   "source": [
    "## **Neurons Nhân Tạo -  Sơ Lược Về Lịch Sử Máy Học**"
   ]
  },
  {
   "cell_type": "markdown",
   "id": "81b4d1c2",
   "metadata": {},
   "source": [
    "Trước khi chúng ta bàn luận về perceptron và chi thiết của thuật toán, chúng ta hãy cùng nhau tìm hiểu nhanh về sự khởi đầu của machine learning. Hiểu rõ cách hoạt động của não bộ sinh học, để thiết kế AI, Warren McCullock and Walter Pitts đã công bố khái niệm đầu tiên về một tế bào não đơn giản, hay còn được biết đến **McCullock-Pitts(MCP)** neurons vào năm 1943.Tế bào thần kinh liên kết với nhau trong não bộ có liên quan đến việc xử lý, truyền tín hiệu hóa học và điện, được minh họa trong hình sau :"
   ]
  },
  {
   "cell_type": "markdown",
   "id": "c7c0c2c0",
   "metadata": {},
   "source": [
    "![anh](https://static.packt-cdn.com/products/9781783555130/graphics/3547_02_01.jpg)"
   ]
  },
  {
   "cell_type": "markdown",
   "id": "f01a12b7",
   "metadata": {},
   "source": [
    "McCullock và Pitts đã mô tả một tế bào thần kinh như một cổng logic đơn giản với đầu ra nhị phân; nhiều tín hiệu đến các nhánh cây(Dendrites), sau đó được tích hợp vào thân tế bào và nếu tín hiệu tích lũy vượt quá một ngưỡng nhất định, tín hiệu đầu ra sẽ được tạo ra và được truyền qua sợi trục(Axon)."
   ]
  },
  {
   "cell_type": "markdown",
   "id": "0cb192bc",
   "metadata": {},
   "source": [
    "Chỉ vài năm sau, Frank Rosenblatt công bố khái niệm đầu tiên về quy tắc học perceptron dựa trên mô hình neuron MCP. Với quy tắc perceptron của mình, ông đã đề xuất một thuật toán sẽ tự động tìm hiểu các hệ số tối ưu, sau đó được nhân với các tính năng đầu vào để đưa ra quyết định liệu một neuron có kích hoạt hay không. Trong bối cảnh phân loại (classification) và học tập có giám sát(supervised learning), một thuật toán như vậy sau đó có thể được sử dụng để dự đoán xem một mẫu thuộc về lớp này hay lớp khác. "
   ]
  },
  {
   "cell_type": "markdown",
   "id": "955b84df",
   "metadata": {},
   "source": [
    "## **Định Nghĩa Về Neurons Nhân Tạo**"
   ]
  },
  {
   "cell_type": "markdown",
   "id": "26f0cd17",
   "metadata": {},
   "source": [
    "Chúng ta có hai lớp 1 và -1. Chúng ta có thể định nghĩa một hàm quyết định $ \\phi(z) $ đó là một sự kết hợp tuyến tính giữa giá trị **x**: input tương ứng với vecto trọng số **w** tương ứng. Nơi đây z được gọi là mạng lưới input : $ z = w_1x_1+…+w_mx_m $:"
   ]
  },
  {
   "cell_type": "markdown",
   "id": "7ad80eba",
   "metadata": {},
   "source": [
    "$$ w = \\begin{bmatrix}\n",
    "w_{1} \\\\\n",
    "\\vdots \\\\\n",
    "w_{m}\n",
    "\\end{bmatrix}\n",
    ", x = \\begin{bmatrix}\n",
    "x_{1} \\\\\n",
    "\\vdots \\\\\n",
    "x_{m}\n",
    "\\end{bmatrix} $$"
   ]
  },
  {
   "cell_type": "markdown",
   "id": "1f116a7f",
   "metadata": {},
   "source": [
    "Nếu mạng lưới input có $ x > \\theta $ là lớp 1 và ngược lại là -1. Trong thuật toán perceptron, hàm quyết định $ \\phi(z) $là một **unit step function**."
   ]
  },
  {
   "cell_type": "markdown",
   "id": "1a92b955",
   "metadata": {},
   "source": [
    " $$  \\phi(z) = \\left\\{ \\begin{array}{ll}\n",
    "         1 & \\mbox{if $z \\geq \\theta$};\\\\\n",
    "        -1 & \\mbox{ otherwise}.\\end{array} \\right. \\  $$"
   ]
  },
  {
   "cell_type": "markdown",
   "id": "7febec5b",
   "metadata": {},
   "source": [
    "Chúng ta có thể mang ngưỡng $ \\theta $ và thay  $ w_0 = - \\theta $ và  $ x_0 = 1 $. Ta có phương trình:"
   ]
  },
  {
   "cell_type": "markdown",
   "id": "cd82d70e",
   "metadata": {},
   "source": [
    "$$ z = w_0x_0 + w_1x_1 + ... + w_mx_m = \\sum_{j=0}^{m} x_jw_j = xw^T $$"
   ]
  },
  {
   "cell_type": "markdown",
   "id": "6ea02df6",
   "metadata": {},
   "source": [
    "Và :  $$  \\phi(z) = \\left\\{ \\begin{array}{ll}\n",
    "         1 & \\mbox{if $z \\geq \\theta$};\\\\\n",
    "        -1 & \\mbox{ otherwise}.\\end{array} \\right. \\  $$"
   ]
  },
  {
   "cell_type": "markdown",
   "id": "1cdccf63",
   "metadata": {},
   "source": [
    "Vì vậy khi ngưỡng $ \\theta $ mang ngưỡng âm hoặc $ w_0 = - \\theta $ được gọi là **bias unit**"
   ]
  },
  {
   "cell_type": "markdown",
   "id": "14ae7573",
   "metadata": {},
   "source": [
    "Chúng ta thường sử dụng ký hiệu của đại số tuyến tính như là chúng ta viết tắt tổng của **x** và **w** sử dụng nhân vecto hoặc ma trận với T là ký hiệu chuyển vị là chuyển từ cột sang dòng và ngược lại :"
   ]
  },
  {
   "cell_type": "markdown",
   "id": "6fcd1742",
   "metadata": {},
   "source": [
    "$$ z = w_0x_0 + w_1x_1 + ... + w_mx_m = \\sum_{j=0}^{m} x_jw_j = xw^T $$"
   ]
  },
  {
   "cell_type": "markdown",
   "id": "710c8889",
   "metadata": {},
   "source": [
    "Đây là hình minh họa cho ta thấy mạng lưới input $ z = xw^T $ được ép thành một đầu ra nhị phân (1 hoặc -1) bởi chức năng quyết định của perception (hình trái) và cách nó sử dụng để phân biệt giữa hai lớp có thể phân hoạch tuyến tính (hình phải)."
   ]
  },
  {
   "cell_type": "markdown",
   "id": "ee572fb0",
   "metadata": {},
   "source": [
    " ![anh](Untitled1.png)"
   ]
  },
  {
   "cell_type": "markdown",
   "id": "73a2cf7c",
   "metadata": {},
   "source": [
    "## **Quy Tắc Học Perceptron**"
   ]
  },
  {
   "cell_type": "markdown",
   "id": "04bb1f0b",
   "metadata": {},
   "source": [
    "Toàn bộ ý tưởng đằng sau MCP neuron và Rosenblatt ngưỡng mô hình perceptron: sử dụng một cách tiếp cận giản lược để bắt chước cách hoạt động của một neuron trong não."
   ]
  },
  {
   "cell_type": "markdown",
   "id": "6ca91035",
   "metadata": {},
   "source": [
    "Do đó, quy tắc perceptron ban đầu của Rosenblatt khá đơn giản và có thể tóm tắt bằng các bước : \n",
    "+ Khởi tạo các trọng số thành 0 hoặc các số nhỏ ngẫu nhiên.\n",
    "+ Đối với x:\n",
    "    1.\tTính toán giá trị output y^ \n",
    "    2.\tThay đổi trọng số."
   ]
  },
  {
   "cell_type": "markdown",
   "id": "4a8e6330",
   "metadata": {},
   "source": [
    "Ở  đây các giá trị output là các lớp dự đoán bởi unit step function trước đó, và cập nhật từng trọng số $ w_j $ trong vecto w: "
   ]
  },
  {
   "cell_type": "markdown",
   "id": "31b5cb0c",
   "metadata": {},
   "source": [
    "$$ w_j := w_j + \\Delta w_j $$"
   ]
  },
  {
   "cell_type": "markdown",
   "id": "fb4bc4ba",
   "metadata": {},
   "source": [
    "$ \\Delta w_j $ được tính bởi công thức:"
   ]
  },
  {
   "cell_type": "markdown",
   "id": "66158220",
   "metadata": {},
   "source": [
    "$$ \\Delta w_j = \\eta (y^ (i) - \\tilde{y}^ (i) )x_j ^ (i) $$"
   ]
  },
  {
   "cell_type": "markdown",
   "id": "813a9324",
   "metadata": {},
   "source": [
    "$\n",
    "\\eta : tỷ lệ (learning rate) là hằng số từ 0.0 đến 1.0 \\\\\n",
    "\\ y : lớp thật (true class label) của mẫu training thứ i \\\\\n",
    "\\ \\tilde{y} : lớp dự đoán(predicted class label) \\\\ $"
   ]
  },
  {
   "cell_type": "markdown",
   "id": "9fa07bc4",
   "metadata": {},
   "source": [
    "Tất cả các trọng số trong vecto đều được updated đồng thời, chúng ta không cần tính $ \\tilde{y} $ trước khi $ \\Delta w $ được updated. Trong tập dữ liệu hai chiều, chúng ta có thể ghi là:"
   ]
  },
  {
   "cell_type": "markdown",
   "id": "247ec476",
   "metadata": {},
   "source": [
    "$$ \\Delta w_0 = \\eta ( y(i) - output(i) ) $$"
   ]
  },
  {
   "cell_type": "markdown",
   "id": "eb1dd7c8",
   "metadata": {},
   "source": [
    "$$ \\Delta w_1 = \\eta ( y(i) - output(i) )x_1(i) $$"
   ]
  },
  {
   "cell_type": "markdown",
   "id": "8b5271c6",
   "metadata": {},
   "source": [
    "$$ \\Delta w_2 = \\eta ( y(i) - output(i) )x_2(i) $$"
   ]
  },
  {
   "cell_type": "markdown",
   "id": "3bf16b22",
   "metadata": {},
   "source": [
    "Trước khi triển khai quy tắc perceptron trong Python, chúng ta có một ví dụ để xem nguyên tắc này đơn giản như thế nào. Trong hai trường hợp mà perceptron dự đoán chính xác nhãn lớp, các trọng số không thay đổi:"
   ]
  },
  {
   "cell_type": "markdown",
   "id": "6dd61291",
   "metadata": {},
   "source": [
    "$$ \\Delta w_j = \\eta ( -1 - (-1) )x_j(i) =0 $$"
   ]
  },
  {
   "cell_type": "markdown",
   "id": "04031d80",
   "metadata": {},
   "source": [
    "$$ \\Delta w_j = \\eta ( -1 -1 )x_j(i) =0 $$"
   ]
  },
  {
   "cell_type": "markdown",
   "id": "e710665b",
   "metadata": {},
   "source": [
    "Trong trường hợp dự đoán sai, các trọng số được đẩy sang lớp mục tiêu theo 2 hướng âm hoặc dương:"
   ]
  },
  {
   "cell_type": "markdown",
   "id": "e21da8b2",
   "metadata": {},
   "source": [
    "$$ \\Delta w_j = \\eta(1--1)x_j(i) = \\eta(2)x_j(i) $$"
   ]
  },
  {
   "cell_type": "markdown",
   "id": "49c213e3",
   "metadata": {},
   "source": [
    "$$ \\Delta w_j = \\eta(-1-1)x_j(i) = \\eta(-2)x_j(i) $$"
   ]
  },
  {
   "cell_type": "markdown",
   "id": "9a6ce3d8",
   "metadata": {},
   "source": [
    "Để hiểu hơn về hệ số nhân xj chúng ta sang ví dụ đơn giản khác:"
   ]
  },
  {
   "cell_type": "markdown",
   "id": "befeaa8d",
   "metadata": {},
   "source": [
    "$$ \\tilde{y}=-1, y(i) = +1, \\eta=1 $$"
   ]
  },
  {
   "cell_type": "markdown",
   "id": "4d5f596a",
   "metadata": {},
   "source": [
    "Giả sử  $ x_j = 0.5 $ chúng ta phân loại sai -1:"
   ]
  },
  {
   "cell_type": "markdown",
   "id": "3a46806b",
   "metadata": {},
   "source": [
    "$$ \\Delta w_j = (1--1)0.5=(2)0.5=1 $$"
   ]
  },
  {
   "cell_type": "markdown",
   "id": "b15819a9",
   "metadata": {},
   "source": [
    "Giả sử $ x_j = 2 $ chúng ta phân loại sai -1:"
   ]
  },
  {
   "cell_type": "markdown",
   "id": "3519872c",
   "metadata": {},
   "source": [
    "$$ \\Delta w_j = (1--1)2=2(2)=4 $$"
   ]
  },
  {
   "cell_type": "markdown",
   "id": "ecfaaa32",
   "metadata": {},
   "source": [
    "Điều quan trọng cần lưu ý là sự hội tụ của perceptron chỉ được đảm bảo nếu hai lớp có thể phân tách tuyến tính và tốc độ học đủ nhỏ. Nếu hai lớp không thể được phân tách bằng ranh giới quyết định tuyến tính, chúng ta có thể đặt số lần vượt qua tập dữ liệu huấn luyện tối đa (epochs) và/hoặc ngưỡng cho số lần phân loại sai được chấp nhận—perceptron sẽ không bao giờ ngừng cập nhật trọng số:"
   ]
  },
  {
   "cell_type": "markdown",
   "id": "82b9a1bc",
   "metadata": {},
   "source": [
    "![anh](Untitled2.png)"
   ]
  },
  {
   "cell_type": "markdown",
   "id": "7002fdd6",
   "metadata": {},
   "source": [
    "Sơ đồ minh họa đơn giản khái niệm chung về perceptron:"
   ]
  },
  {
   "cell_type": "markdown",
   "id": "a618e508",
   "metadata": {},
   "source": [
    "![anh](Untitled3.png)"
   ]
  },
  {
   "cell_type": "markdown",
   "id": "80c89d2d",
   "metadata": {},
   "source": [
    "Sơ đồ trước minh họa cách perceptron nhận đầu vào của một mẫu xvà kết hợp chúng với các trọng sốwđể tính toán đầu vào ròng. Sau đó, đầu vào được chuyển đến hàm ngưỡng, hàm này tạo đầu ra nhị phân -1 hoặc +1 lớp dự đoán của mẫu. Trong giai đoạn học tập, đầu ra này được sử dụng để tính toán lỗi của dự đoán và cập nhật trọng số."
   ]
  },
  {
   "cell_type": "markdown",
   "id": "2e58e949",
   "metadata": {},
   "source": [
    "## **Perceptron API Hướng Đối Tượng**"
   ]
  },
  {
   "cell_type": "markdown",
   "id": "3bdd5e47",
   "metadata": {},
   "source": [
    "Chúng ta sẽ thực hiện một cách tiếp cận hướng đối tượng để xác định giao diện perceptron trong Python, cho phép chúng ta khởi tạo các đối tượng Perceptron mới có thể học từ dữ liệu thông qua một phương pháp phù hợp và đưa ra dự đoán thông qua một phương pháp dự đoán riêng biệt"
   ]
  },
  {
   "cell_type": "markdown",
   "id": "78145435",
   "metadata": {},
   "source": [
    "Sau đây là việc thực hiện một perceptron:"
   ]
  },
  {
   "cell_type": "code",
   "execution_count": 3,
   "id": "2baf5b6a",
   "metadata": {},
   "outputs": [],
   "source": [
    "import pandas as pd\n",
    "import matplotlib.pyplot as plt\n",
    "import numpy as np\n",
    "from matplotlib.colors import ListedColormap\n"
   ]
  },
  {
   "cell_type": "code",
   "execution_count": 4,
   "id": "758e1c1a",
   "metadata": {},
   "outputs": [],
   "source": [
    "\n",
    "class Perceptron(object):\n",
    "    \"\"\"Perceptron classifier.\n",
    "    Parameter\n",
    "    ------------\n",
    "    eta : float\n",
    "         Learning rate (between 0.0 and 1.0\n",
    "    n_iter : int\n",
    "         Passes over the training dataset.\n",
    "    random_state : int\n",
    "         Random number generator seed for random weight\n",
    "         initialization.\n",
    "    Attributes\n",
    "    ------------\n",
    "    w_ : 1d-arrday\n",
    "         Weights after fitting\n",
    "    errors_ : list\n",
    "         Number of misclassification (updates) in each epoch.\n",
    "         \"\"\"\n",
    "    def __init__(self,eta = 0.01, n_iter=50, random_state=1) -> None:\n",
    "        self.eta = eta\n",
    "        self.n_iter = n_iter\n",
    "        self.random_state = random_state\n",
    "    def fit(self, X,y):\n",
    "        \"\"\"Fit training data.\n",
    "        \n",
    "        Parameters\n",
    "        -------------\n",
    "        X : {array-like} , shape = [n_sample,n_features]\n",
    "        Training vectors, where n_samples is the number of\n",
    "        sample and\n",
    "        n_features is the number of features.\n",
    "        y : array-like, shape = [n_samples]\n",
    "        Target values.\n",
    "        \n",
    "        Returns\n",
    "        -------\n",
    "        self : object\n",
    "        \"\"\"\n",
    "        rgen = np.random.RandomState(self.random_state)\n",
    "        self.w_ = rgen.normal(loc=0.0,scale=0.01,size=1+X.shape[1])\n",
    "        self.errors_ = []\n",
    "        for _ in range(self.n_iter):\n",
    "            errors = 0\n",
    "            for xi, target in zip(X,y):\n",
    "                update = self.eta * (target - self.predict(xi))\n",
    "                self.w_[1:] += update * xi\n",
    "                self.w_[0] += update\n",
    "                errors += int(update != 0.0)\n",
    "            self.errors_.append(errors)\n",
    "        return self\n",
    "    def net_input(self,X):\n",
    "        \"\"\"Caculate net input\"\"\"\n",
    "        return np.dot(X,self.w_[1:]) + self.w_[0]\n",
    "    def predict(self,X):\n",
    "        \"\"\"Return class label after unit step\"\"\"\n",
    "        return np.where(self.net_input(X) >= 0.0, 1,-1)"
   ]
  },
  {
   "cell_type": "markdown",
   "id": "4efdf1b1",
   "metadata": {},
   "source": [
    "Sử dụng triển khai perceptron này, giờ đây chúng ta có thể khởi tạo mới perceptron các đối tượng với một tỷ lệ học tập nhất định eta và n_iter, đó là số lượng epochs (vượt qua tập huấn luyện). Thông quaPhù hợpphương pháp, chúng tôi khởi tạo các trọng số trong self.w_ đến một vecto Rm+1 . Có m là số kích thước (tính năng) trong tập dữ liệu trong đó chúng tôi thêm 1cho phần tử đầu tiên trong vectơ này đại diện cho đơn vị sai lệch. Phần tử đầu tiên trong vectơ này, self.w_[0],đại diện cho cái gọi là bias unit mà chúng ta đã thảo luận trước đó."
   ]
  },
  {
   "cell_type": "markdown",
   "id": "b085b707",
   "metadata": {},
   "source": [
    "*Lưu ý rằng vectơ này chứa các số ngẫu nhiên nhỏ được rút ra từ phân phối chuẩn với độ lệch chuẩn 0,01 thông qua rgen.normal(loc=0.0, scale=0.01, size=1 + X.shape[1]). Rgen là một số ngẫu nhiên NumPy trình tạo mà chúng ta đã gieo ngẫu nhiên do người dùng chỉ định để chúng ta có thể tạo lại các kết quả trước đó nếu muốn.*"
   ]
  },
  {
   "cell_type": "markdown",
   "id": "657035ef",
   "metadata": {},
   "source": [
    "Bây giờ, lý do chúng ta không khởi tạo trọng số bằng 0 là tốc độ học η (eta)chỉ có ảnh hưởng đến kết quả phân loại nếu các trọng số được khởi tạo thành các giá trị khác không. Nếu tất cả các trọng số được khởi tạo bằng 0, tham số tốc độ học tập eta chỉ ảnh hưởng đến tỷ lệ của vectơ trọng lượng, không ảnh hưởng đến hướng. Nếu bạn đã quen thuộc với lượng giác, hãy xem xét một vectơ v1=[1 2 3],mà góc giữa v1 và một vecto v2 = 0,5×v1 sẽ chính xác bằng 0, như được minh họa bởi đoạn mã sau: "
   ]
  },
  {
   "cell_type": "code",
   "execution_count": 5,
   "id": "a5380122",
   "metadata": {},
   "outputs": [
    {
     "data": {
      "text/plain": [
       "0.0"
      ]
     },
     "execution_count": 5,
     "metadata": {},
     "output_type": "execute_result"
    }
   ],
   "source": [
    "v1 = np.array([1,2,3])\n",
    "v2 = 0.5*v1\n",
    "np.arccos(v1.dot(v2) / (np.linalg.norm(v1)*np.linalg.norm(v2)))"
   ]
  },
  {
   "cell_type": "markdown",
   "id": "4b5ba197",
   "metadata": {},
   "source": [
    "np.arccos là cosin nghịch đảo lượng giác và np.linalg.norm là một hàm tính độ dài của một vectơ."
   ]
  },
  {
   "cell_type": "markdown",
   "id": "eb2e37df",
   "metadata": {},
   "source": [
    "## **Training a perceptron model on the Iris dataset**"
   ]
  },
  {
   "cell_type": "markdown",
   "id": "2a756eba",
   "metadata": {},
   "source": [
    "Để kiểm tra triển khai perceptron,ta thiết đặt hai lớp hoa Setosa\n",
    "và Versicolor từ bộ dữ liệu Iris. Mặc dù quy tắc perceptron không bị hạn chế đối với hai chiều, ta chỉ xét hai đặc điểm chiều dài đài hoa và chiều dài cánh hoa cho mục đích trực quan hóa. Tuy nhiên, thuật toán perceptron có thể được mở rộng thành phân loại nhiều lớp,ví dụ kỹ thuật One-versus-All(OvA).\n"
   ]
  },
  {
   "cell_type": "markdown",
   "id": "4e2a4be7",
   "metadata": {},
   "source": [
    "Đầu tiên, sử dụng thư viện pandas để tải bộ dữ liệu Iris trực tiếp từ UCI\n",
    "Kho lưu trữ máy học thành đối tượng DataFrame và in năm dòng cuối cùng qua\n",
    "phương thức đuôi để kiểm tra dữ liệu đã được tải chính xác chưa:"
   ]
  },
  {
   "cell_type": "code",
   "execution_count": 6,
   "id": "ceb71302",
   "metadata": {},
   "outputs": [
    {
     "data": {
      "text/html": [
       "<div>\n",
       "<style scoped>\n",
       "    .dataframe tbody tr th:only-of-type {\n",
       "        vertical-align: middle;\n",
       "    }\n",
       "\n",
       "    .dataframe tbody tr th {\n",
       "        vertical-align: top;\n",
       "    }\n",
       "\n",
       "    .dataframe thead th {\n",
       "        text-align: right;\n",
       "    }\n",
       "</style>\n",
       "<table border=\"1\" class=\"dataframe\">\n",
       "  <thead>\n",
       "    <tr style=\"text-align: right;\">\n",
       "      <th></th>\n",
       "      <th>0</th>\n",
       "      <th>1</th>\n",
       "      <th>2</th>\n",
       "      <th>3</th>\n",
       "      <th>4</th>\n",
       "    </tr>\n",
       "  </thead>\n",
       "  <tbody>\n",
       "    <tr>\n",
       "      <th>145</th>\n",
       "      <td>6.7</td>\n",
       "      <td>3.0</td>\n",
       "      <td>5.2</td>\n",
       "      <td>2.3</td>\n",
       "      <td>Iris-virginica</td>\n",
       "    </tr>\n",
       "    <tr>\n",
       "      <th>146</th>\n",
       "      <td>6.3</td>\n",
       "      <td>2.5</td>\n",
       "      <td>5.0</td>\n",
       "      <td>1.9</td>\n",
       "      <td>Iris-virginica</td>\n",
       "    </tr>\n",
       "    <tr>\n",
       "      <th>147</th>\n",
       "      <td>6.5</td>\n",
       "      <td>3.0</td>\n",
       "      <td>5.2</td>\n",
       "      <td>2.0</td>\n",
       "      <td>Iris-virginica</td>\n",
       "    </tr>\n",
       "    <tr>\n",
       "      <th>148</th>\n",
       "      <td>6.2</td>\n",
       "      <td>3.4</td>\n",
       "      <td>5.4</td>\n",
       "      <td>2.3</td>\n",
       "      <td>Iris-virginica</td>\n",
       "    </tr>\n",
       "    <tr>\n",
       "      <th>149</th>\n",
       "      <td>5.9</td>\n",
       "      <td>3.0</td>\n",
       "      <td>5.1</td>\n",
       "      <td>1.8</td>\n",
       "      <td>Iris-virginica</td>\n",
       "    </tr>\n",
       "  </tbody>\n",
       "</table>\n",
       "</div>"
      ],
      "text/plain": [
       "       0    1    2    3               4\n",
       "145  6.7  3.0  5.2  2.3  Iris-virginica\n",
       "146  6.3  2.5  5.0  1.9  Iris-virginica\n",
       "147  6.5  3.0  5.2  2.0  Iris-virginica\n",
       "148  6.2  3.4  5.4  2.3  Iris-virginica\n",
       "149  5.9  3.0  5.1  1.8  Iris-virginica"
      ]
     },
     "execution_count": 6,
     "metadata": {},
     "output_type": "execute_result"
    }
   ],
   "source": [
    "df = pd.read_csv('iris.data',header=None)\n",
    "df.tail()"
   ]
  },
  {
   "cell_type": "markdown",
   "id": "8f6a2ba5",
   "metadata": {},
   "source": [
    "Tiếp theo,truy xuất 100 nhãn lớp đầu tiên tương ứng với 50 Iris-setosa và\n",
    "50 versicolor, chuyển nhãn lớp thành lớp hai số nguyên nhãn 1 (versicolor) và -1 (setosa) mà chúng ta gán cho một vectơ y."
   ]
  },
  {
   "cell_type": "markdown",
   "id": "9ae5beac",
   "metadata": {},
   "source": [
    "Tương tự,truy xuất cột feature đầu tiên (sepal length) và feature thứ ba cột (petal length) của 100 mẫu thử đó và gán chúng cho một featurema trận X, mà ta có thể hình dung qua biểu đồ phân hoạch hai chiều:"
   ]
  },
  {
   "cell_type": "code",
   "execution_count": 7,
   "id": "b28e925f",
   "metadata": {
    "scrolled": true
   },
   "outputs": [
    {
     "data": {
      "image/png": "[encoded data removed]",
      "text/plain": [
       "<Figure size 432x288 with 1 Axes>"
      ]
     },
     "metadata": {
      "needs_background": "light"
     },
     "output_type": "display_data"
    }
   ],
   "source": [
    "#select the setosa and versicolor\n",
    "y = df.iloc[0:100,4].values\n",
    "y = np.where(y== 'Iris-setosa',-1,1)\n",
    "\n",
    "#extract sepal length and petal length\n",
    "X = df.iloc[0:100,[0,2]].values\n",
    "#plot data\n",
    "plt.scatter(X[:50,0],X[:50,1],color = 'red',marker='o',label = 'setosa')\n",
    "plt.scatter(X[50:1000,0],X[50:100,1],color = 'blue',marker='x',label = 'versicolor')\n",
    "plt.xlabel('sepal length [cm]')\n",
    "plt.ylabel('petal length [cm]')\n",
    "plt.legend(loc = 'upper left')\n",
    "plt.show()\n"
   ]
  },
  {
   "cell_type": "markdown",
   "id": "c99c666b",
   "metadata": {},
   "source": [
    "Biểu đồ phân hoạch cho thấy sự phân bố của các mẫu hoa trong bộ dữ liệu Iris, dọc theo hai trục đặc điểm là chiều dài cánh hoa và chiều dài đài hoa. Trong không gian hai chiều này không gian con đặc trưng, có thể thấy rằng một ranh giới tuyến tính là đủ để tách Setosa khỏi hoa Versicolor. Do đó,lớp phân loại tuyến tính như perceptron sẽ có thể phân loại các bông hoa trong tập dữ liệu này một cách hoàn hảo."
   ]
  },
  {
   "cell_type": "markdown",
   "id": "b292444b",
   "metadata": {},
   "source": [
    "Vẽ sơ đồ lỗi phân loại sai cho từng epoch để kiểm tra liệu thuật toán có hội tụ và tìm thấy ranh giới quyết định phân tách hai lớp hoa Iris:"
   ]
  },
  {
   "cell_type": "code",
   "execution_count": 8,
   "id": "c40d33c9",
   "metadata": {
    "scrolled": true
   },
   "outputs": [
    {
     "data": {
      "image/png": "[encoded data removed]",
      "text/plain": [
       "<Figure size 432x288 with 1 Axes>"
      ]
     },
     "metadata": {
      "needs_background": "light"
     },
     "output_type": "display_data"
    }
   ],
   "source": [
    "pnn = Perceptron(eta=0.1,n_iter =10)\n",
    "pnn.fit(X,y)\n",
    "plt.plot(range(1,len(pnn.errors_)+1),pnn.errors_,marker = 'o')\n",
    "plt.xlabel('Epochs')\n",
    "plt.ylabel('Number of updates')\n",
    "plt.show()"
   ]
  },
  {
   "cell_type": "markdown",
   "id": "140b0057",
   "metadata": {},
   "source": [
    "Như chúng ta có thể thấy trong biểu đồ trước, perceptron hội tụ sau lần thứ sáu epoch và bây giờ có thể phân loại các mẫu đào tạo một cách hoàn hảo. Thực hiện một chức năng tiện lợi giúp trực quan hóa các ranh giới quyết định cho tập dữ liệu hai chiều:"
   ]
  },
  {
   "cell_type": "code",
   "execution_count": 9,
   "id": "5a1570db",
   "metadata": {},
   "outputs": [],
   "source": [
    "def plot_decision_regions(X,y,classifier,resolution=0.02):\n",
    "    # setup marker generator and color map\n",
    "    markers = ('s','x','o','^','v')\n",
    "    colors = ('red','blue','lightgreen','gray','cyan')\n",
    "    cmap = ListedColormap(colors[:len(np.unique(y))])\n",
    "\n",
    "    #plot the decision surface\n",
    "    x1_min , x1_max = X[:,0].min() -1, X[:,0].max()+1\n",
    "    x2_min , x2_max = X[:,1].min() -1, X[:,1].max()+1\n",
    "    xx1, xx2 = np.meshgrid(np.arange(x1_min,x1_max,resolution),np.arange(x2_min,x2_max,resolution))\n",
    "    Z = classifier.predict(np.array([xx1.ravel(),xx2.ravel()]).T)\n",
    "    Z = Z.reshape(xx1.shape)\n",
    "    plt.contourf(xx1, xx2, Z, alpha = 0.3, cmap = cmap)\n",
    "    plt.xlim(xx1.min(), xx1.max())\n",
    "    plt.ylim(xx2.min(),xx2.max())\n",
    "\n",
    "    #plot class samples\n",
    "    for idx , cl in enumerate(np.unique(y)):\n",
    "        plt.scatter(x=X[y == cl , 0],y=X[y == cl,1],alpha=0.8,c=colors[idx],marker=markers[idx],edgecolors='black')"
   ]
  },
  {
   "cell_type": "markdown",
   "id": "e00a9d44",
   "metadata": {},
   "source": [
    "Đầu tiên, xác định colors và markers và tạo một bản đồ màu từ danh sách các màu qua ListedColormap.\n",
    "Sau đó, xác định minimum và maximum cho hai features và sử dụng các vectơ đó để tạo một cặp của các mảng lưới xx1 và xx2 thông qua meshgrid function của NumPy."
   ]
  },
  {
   "cell_type": "markdown",
   "id": "d0807c46",
   "metadata": {},
   "source": [
    "\n",
    "Sau khi định hình lại predict class Z thành một lưới có cùng kích thước như xx1 và xx2, giờ đây chúng ta có thể vẽ biểu đồ đường bao thông qua hàm contourf của Matplotlib,ánh xạ các vùng quyết định khác nhau thành các màu khác nhau cho từng lớp dự đoán\n",
    "trong mảng lưới:"
   ]
  },
  {
   "cell_type": "code",
   "execution_count": 10,
   "id": "a7d2e27d",
   "metadata": {
    "scrolled": true
   },
   "outputs": [
    {
     "name": "stderr",
     "output_type": "stream",
     "text": [
      "C:\\Users\\phamt\\AppData\\Local\\Temp\\ipykernel_15208\\432682371.py:19: UserWarning: You passed a edgecolor/edgecolors ('black') for an unfilled marker ('x').  Matplotlib is ignoring the edgecolor in favor of the facecolor.  This behavior may change in the future.\n",
      "  plt.scatter(x=X[y == cl , 0],y=X[y == cl,1],alpha=0.8,c=colors[idx],marker=markers[idx],edgecolors='black')\n",
      "No artists with labels found to put in legend.  Note that artists whose label start with an underscore are ignored when legend() is called with no argument.\n"
     ]
    },
    {
     "data": {
      "image/png": "[encoded data removed]",
      "text/plain": [
       "<Figure size 432x288 with 1 Axes>"
      ]
     },
     "metadata": {
      "needs_background": "light"
     },
     "output_type": "display_data"
    }
   ],
   "source": [
    "plot_decision_regions(X,y,classifier=pnn)\n",
    "plt.xlabel('sepal length [cm]')\n",
    "plt.ylabel('petal length [cm]')\n",
    "plt.legend(loc= 'upper left')\n",
    "plt.show()"
   ]
  },
  {
   "cell_type": "markdown",
   "id": "87287a76",
   "metadata": {},
   "source": [
    "## **Adaptive linear neurous and the convergence of learning**"
   ]
  },
  {
   "cell_type": "markdown",
   "id": "19c20245",
   "metadata": {},
   "source": [
    "*Giới thiệu thuật toán ADLINE*\n"
   ]
  },
  {
   "cell_type": "markdown",
   "id": "a87cd8fa",
   "metadata": {},
   "source": [
    "- Adaline được giới thiệu vào năm 1959 bởi Bernard Widrow và nghiên\n",
    "cứu sinh tiến sĩ của ông Tedd Hoff chỉ một vài năm sau khi Frank\n",
    "Rosenblatt's perceptron algorithm và có thể được coi là một cải tiến của\n",
    "thuật toán\n",
    "- Thuật toán Adaline đặc biệt thú vị vì nó minh họa khóa khái niệm xác\n",
    "định và giảm thiểu các chức năng chi phí liên tục.\n",
    "- Đây là nền tảng để hiểu cho phân nhóm các thuật toán Machine Learning,\n",
    "logistic regression, Máy vectơ hỗ trợ và Phân tích hồi quy, mà chúng ta\n",
    "sẽ thảo luận trong các chương trong tương lai.\n"
   ]
  },
  {
   "cell_type": "markdown",
   "id": "b317e3c8",
   "metadata": {},
   "source": [
    "*Sự khác biệt giữa quy tắc Adaline and Rosenblatt's perceptron:*"
   ]
  },
  {
   "cell_type": "markdown",
   "id": "b46345bf",
   "metadata": {},
   "source": [
    "- là các trọng số được cập nhật dựa trên một hàm kích hoạt tuyến tính chứ\n",
    "không phải là một hàm bước đơn vị như trong perceptron .Hàm kích\n",
    "hoạt tuyến tính này $ \\phi(z) $ chỉ đơn giản là hàm nhận dạng của đầu vào\n",
    "mạng :\n"
   ]
  },
  {
   "cell_type": "markdown",
   "id": "0ee2f78f",
   "metadata": {},
   "source": [
    "$$ \\phi(w^T x) = w^T x $$"
   ]
  },
  {
   "cell_type": "markdown",
   "id": "f7fe1480",
   "metadata": {},
   "source": [
    "Trong khi hàm kích hoạt tuyến tính được sử dụng để học trọng số,\n",
    "ADALINE vẫn sử dụng hàm ngưỡng để đưa ra dự đoán cuối cùng, tương\n",
    "tự như hàm bước đơn vị mà perceptron. Sự khác biệt chính giữa\n",
    "perceptron và Thuật toán Adaline được đánh dấu trong hình sau:"
   ]
  },
  {
   "cell_type": "markdown",
   "id": "30b38661",
   "metadata": {},
   "source": [
    "![anh](Untitled4.png)"
   ]
  },
  {
   "cell_type": "markdown",
   "id": "2d00668c",
   "metadata": {},
   "source": [
    "Sự khác biệt là thuật toán Adaline so sánh các nhãn lớp thực với đầu ra\n",
    "có giá trị liên tục của hàm kích hoạt tuyến tính để tính toán lỗi mô hình\n",
    "và cập nhật trọng số, . Ngược lại, perceptron so sánh các nhãn lớp thực sự\n",
    "với các nhãn lớp dự đoán."
   ]
  },
  {
   "cell_type": "markdown",
   "id": "c4d7efcf",
   "metadata": {},
   "source": [
    "## **Minimizing cost functions with gradient descent**"
   ]
  },
  {
   "cell_type": "markdown",
   "id": "5a8d6139",
   "metadata": {},
   "source": [
    "Một trong những thành phần chính của các thuật toán machine learning là\n",
    "một chức năng khách quan được xác định sẽ được tối ưu hóa trong quá trình xử lý. Hàm ojective thường là một hàm chi phí mà chúng ta muốn\n",
    "giảm thiểu. Trong ADALINE chúng ta có thể định nghĩa hàm chi phí J để\n",
    "tìm hiểu các trọng số là **Sum of Squared Errors(SSE)** giữa kết quả được tính\n",
    "toán và nhãn lớp thực:"
   ]
  },
  {
   "cell_type": "markdown",
   "id": "18b75629",
   "metadata": {},
   "source": [
    "$$ J(w) = 1/2 \\sum_{i}(y(i) - \\phi(z(i)))^2 $$"
   ]
  },
  {
   "cell_type": "markdown",
   "id": "3059f515",
   "metadata": {},
   "source": [
    "Nhân ½ để thuận tiện hơn, điều này sẽ giúp dễ dàng rút ra hơn độ dốc,\n",
    "như chúng ta sẽ thấy trong các đoạn sau. Ưu điểm chính của hàm kích\n",
    "hoạt tuyến tính liên tục này, trái ngược với hàm bước đơn vị, là hàm chi\n",
    "phí trở nên khả vi. Một tính chất hay khác của hàm chi phí này là nó lồi;\n",
    "do đó, chúng ta có thể sử dụng một thuật toán tối ưu hóa đơn giản nhưng\n",
    "mạnh mẽ được gọi là giảm độ dốc để tìm các trọng số làm giảm thiểu\n",
    "hàm chi phí của chúng ta nhằm phân loại các mẫu trong bộ dữ liệu Iris."
   ]
  },
  {
   "cell_type": "markdown",
   "id": "3aa3b24c",
   "metadata": {},
   "source": [
    "![anh](Untitled5.png)"
   ]
  },
  {
   "cell_type": "markdown",
   "id": "5fb43cc5",
   "metadata": {},
   "source": [
    "Sử dụng giảm dần độ dốc, giờ đây chúng ta có thể cập nhật các trọng số\n",
    "bằng cách thực hiện một bước theo hướng ngược lại với độ dốc $ \\Delta J(w) $\n",
    "của hàm chi phí $ J(w )$ :\n"
   ]
  },
  {
   "cell_type": "markdown",
   "id": "071cad5a",
   "metadata": {},
   "source": [
    "$$ w := w + \\Delta w $$"
   ]
  },
  {
   "cell_type": "markdown",
   "id": "0b8ea142",
   "metadata": {},
   "source": [
    "Trong đó thay đổi trọng số $ \\Delta w $ được định nghĩa là độ dốc âm nhân với\n",
    "tốc độ học $ \\eta$  :\n"
   ]
  },
  {
   "cell_type": "markdown",
   "id": "a28d150e",
   "metadata": {},
   "source": [
    "$$ \\Delta w = - \\eta \\Delta J(w) $$"
   ]
  },
  {
   "cell_type": "markdown",
   "id": "43319971",
   "metadata": {},
   "source": [
    "Để tính độ dốc của hàm chi phí, chúng ta cần tính đạo hàm riêng của hàm\n",
    "chi phí đối với từng trọng số $ w_j $ :"
   ]
  },
  {
   "cell_type": "markdown",
   "id": "b65ef560",
   "metadata": {},
   "source": [
    "$$ \\frac{\\partial J}{\\partial w_j} = - \\sum_{i}(y(i) - \\phi(z(i))x_j $$"
   ]
  },
  {
   "cell_type": "markdown",
   "id": "b862ba31",
   "metadata": {},
   "source": [
    "$$ \\nabla w_j = - \\eta \\frac{\\partial J}{\\partial w_j} = \\eta \\sum_{i}(y(i) - \\phi(z(i)) )x_j(i) $$"
   ]
  },
  {
   "cell_type": "markdown",
   "id": "a059c141",
   "metadata": {},
   "source": [
    "Cập nhật trọng số, quy tắc Adaline trở thành :\n",
    "$$  w := w + \\Delta w $$"
   ]
  },
  {
   "cell_type": "markdown",
   "id": "f4b2da77",
   "metadata": {},
   "source": [
    "Mặc dù quy tắc học Adaline trông giống hệt quy tắc perceptron, chúng ta nên\n",
    "lưu ý rằng $ \\phi(z)$ với $ z(i) = w^T x(i) $ là một số thực và không phải là nhãn lớp số nguyên.\n",
    "Hơn nữa, cập nhật trọng số được tính toán dựa trên tất cả các mẫu trong tập mẫu\n",
    "(thay vì cập nhật trọng số tăng dần sau mỗi mẫu), đó là lý do tại sao điều này\n",
    "cách tiếp cận còn được gọi là giảm dần độ dốc hàng loạt."
   ]
  },
  {
   "cell_type": "markdown",
   "id": "96c92fb6",
   "metadata": {},
   "source": [
    "## **Implementing Adaline in Python**"
   ]
  },
  {
   "cell_type": "markdown",
   "id": "26d3fd6d",
   "metadata": {},
   "source": [
    "Vì quy tắc perceptron và Adaline rất giống nhau, nên ta sẽ triển khai\n",
    "perceptron và thay đổi phương thức điều chỉnh sao cho các trọng số được\n",
    "cập nhật bằng cách **giảm thiểu hàm chi phí** thông qua **giảm độ dốc** .\n"
   ]
  },
  {
   "cell_type": "code",
   "execution_count": 11,
   "id": "857e4c95",
   "metadata": {},
   "outputs": [],
   "source": [
    "class AdaptiveLinearNeuron(object):\n",
    "   def __init__(self, rate = 0.01, niter = 10):\n",
    "      self.rate = rate\n",
    "      self.niter = niter\n",
    "\n",
    "   def fit(self, X, y):\n",
    "      \"\"\"Fit training data\n",
    "      X : Training vectors, X.shape : [#samples, #features]\n",
    "      y : Target values, y.shape : [#samples]\n",
    "      \"\"\"\n",
    "\n",
    "      # weights\n",
    "      self.weight = np.zeros(1 + X.shape[1])\n",
    "\n",
    "      # Number of misclassifications\n",
    "      self.errors = []\n",
    "\n",
    "      # Cost function\n",
    "      self.cost = []\n",
    "\n",
    "      for i in range(self.niter):\n",
    "         output = self.net_input(X)\n",
    "         errors = y - output\n",
    "         self.weight[1:] += self.rate * X.T.dot(errors)\n",
    "         self.weight[0] += self.rate * errors.sum()\n",
    "         cost = (errors**2).sum() / 2.0\n",
    "         self.cost.append(cost)\n",
    "      return self\n",
    "\n",
    "   def net_input(self, X):\n",
    "      \"\"\"Calculate net input\"\"\"\n",
    "      return np.dot(X, self.weight[1:]) + self.weight[0]\n",
    "\n",
    "   def activation(self, X):\n",
    "      \"\"\"Compute linear activation\"\"\"\n",
    "      return self.net_input(X)\n",
    "\n",
    "   def predict(self, X):\n",
    "      \"\"\"Return class label after unit step\"\"\"\n",
    "      return np.where(self.activation(X) >= 0.0, 1, -1)"
   ]
  },
  {
   "cell_type": "markdown",
   "id": "3f43327e",
   "metadata": {},
   "source": [
    "Trong thực tế, thường yêu cầu một số thử nghiệm để tìm ra tốc độ học\n",
    "tốt η để hội tụ tối ưu. Vì vậy, hãy chọn hai tốc độ học khác nhau, η = 0,01\n",
    "và η = 0,0001, để bắt đầu và vẽ biểu đồ hàm chi phí so với số lượng kỷ\n",
    "nguyên để xem việc triển khai Adaline học từ dữ liệu đào tạo tốt như thế\n",
    "nào."
   ]
  },
  {
   "cell_type": "code",
   "execution_count": 12,
   "id": "7767d0a9",
   "metadata": {
    "scrolled": true
   },
   "outputs": [
    {
     "data": {
      "image/png": "[encoded data removed]",
      "text/plain": [
       "<Figure size 576x288 with 2 Axes>"
      ]
     },
     "metadata": {
      "needs_background": "light"
     },
     "output_type": "display_data"
    }
   ],
   "source": [
    "\n",
    "fig, ax = plt.subplots(nrows=1, ncols=2, figsize=(8, 4))\n",
    "\n",
    "# learning rate = 0.01\n",
    "aln1 = AdaptiveLinearNeuron(0.01, 10).fit(X,y)\n",
    "\n",
    "ax[0].plot(range(1, len(aln1.cost) + 1), np.log10(aln1.cost), marker='o')\n",
    "ax[0].set_xlabel('Epochs')\n",
    "ax[0].set_ylabel('log(Sum-squared-error)')\n",
    "ax[0].set_title('Adaptive Linear Neuron - Learning rate 0.01')\n",
    "\n",
    "# learning rate = 0.01\n",
    "aln2 = AdaptiveLinearNeuron(0.0001, 10).fit(X,y)\n",
    "\n",
    "ax[1].plot(range(1, len(aln2.cost) + 1), aln2.cost, marker='o')\n",
    "ax[1].set_xlabel('Epochs')\n",
    "ax[1].set_ylabel('Sum-squared-error')\n",
    "ax[1].set_title('Adaptive Linear Neuron - Learning rate 0.0001')\n",
    "plt.show()"
   ]
  },
  {
   "cell_type": "markdown",
   "id": "2a145c8f",
   "metadata": {},
   "source": [
    "+ Hình bên trái cho thấy điều gì có thể xảy ra nếu chúng ta chọn tốc độ\n",
    "học quá lớn. Thay vì giảm thiểu hàm chi phí, sai số trở nên lớn hơn trong\n",
    "mọi thời đại vì chúng tôi vượt quá mức tối thiểu toàn cầu."
   ]
  },
  {
   "cell_type": "markdown",
   "id": "24c56403",
   "metadata": {},
   "source": [
    "+ Mặt khác, chúng ta có thể thấy rằng chi phí giảm đối với lô đất ở phía\n",
    "bên phải. Đó là bởi vì đã chọn tốc độ học η = 0.0001 nhỏ đến mức thuật\n",
    "toán sẽ yêu cầu một số lượng rất lớn các kỷ nguyên để hội tụ."
   ]
  },
  {
   "cell_type": "markdown",
   "id": "7b01b7de",
   "metadata": {},
   "source": [
    " Đây là minh họa cách chúng ta thay đổi giá trị của một tham số trọng số\n",
    "cụ thể để giảm thiểu hàm chi phí J (bên trái). Hình bên phải minh họa\n",
    "điều gì sẽ xảy ra nếu chúng ta chọn tốc độ học quá lớn, chúng ta vượt quá\n",
    "mức tối thiểu chung:"
   ]
  },
  {
   "cell_type": "markdown",
   "id": "dc9a753f",
   "metadata": {},
   "source": [
    "![anh](Untitled6.png)"
   ]
  },
  {
   "cell_type": "markdown",
   "id": "20a267d8",
   "metadata": {},
   "source": [
    "## **Improving gradient descent throug feature scaling**"
   ]
  },
  {
   "cell_type": "markdown",
   "id": "0f921946",
   "metadata": {},
   "source": [
    "Feature scaling là một phương pháp được sử dụng để chuẩn hóa phạm\n",
    "vi của các biến độc lập hoặc tính năng của dữ liệu. Trong xử lý dữ liệu,\n",
    "nó còn được gọi là chuẩn hóa dữ liệu và thường được thực hiện trong\n",
    "bước tiền xử lý dữ liệu."
   ]
  },
  {
   "cell_type": "markdown",
   "id": "21124c06",
   "metadata": {},
   "source": [
    "**Gradient descent** là một trong nhiều thuật toán được hưởng lợi từ việc\n",
    "chia tỷ lệ đối tượng địa lý."
   ]
  },
  {
   "cell_type": "markdown",
   "id": "0ede42d5",
   "metadata": {},
   "source": [
    "chúng ta sẽ sử dụng một phương pháp chia tỷ lệ đối tượng được gọi\n",
    "là **tiêu chuẩn hóa** , phương pháp này cung cấp cho dữ liệu của chúng tôi\n",
    "thuộc tính của một **phân phối chuẩn thông thường** .\n"
   ]
  },
  {
   "cell_type": "markdown",
   "id": "8c07679b",
   "metadata": {},
   "source": [
    "**Tiêu chuẩn hóa tính năng** làm cho các giá trị của từng tính năng trong\n",
    "dữ liệu có **giá trị trung bình bằng 0** (khi trừ giá trị trung bình trong điều\n",
    "tra viên) và **phương sai đơn vị**"
   ]
  },
  {
   "cell_type": "markdown",
   "id": "8e50e2c2",
   "metadata": {},
   "source": [
    "Phương pháp này được sử dụng rộng rãi để chuẩn hóa trong nhiều\n",
    "machine learning algorithms (logistic regression, Máy vectơ hỗ trợ và\n",
    "Phân tích hồi quy).\n"
   ]
  },
  {
   "cell_type": "markdown",
   "id": "5411e090",
   "metadata": {},
   "source": [
    "Điều này thường được thực hiện bằng cách tính điểm tiêu chuẩn .\n",
    "Phương pháp tính toán chung là xác định giá trị trung bình phân phối và\n",
    "độ lệch chuẩn cho từng đối tượng địa lý. Tiếp theo, chúng tôi trừ giá trị\n",
    "trung bình từ mỗi tính năng. Sau đó, chúng ta chia các giá trị (giá trị\n",
    "trung bình đã bị trừ) của từng tính năng cho độ lệch chuẩn của nó."
   ]
  },
  {
   "cell_type": "markdown",
   "id": "156ce076",
   "metadata": {},
   "source": [
    "$$ x'_j = \\frac{x_j - \\mu_j}{\\sigma_j} $$"
   ]
  },
  {
   "cell_type": "markdown",
   "id": "ce3a02ca",
   "metadata": {},
   "source": [
    "Một trong những lý do tại sao tiêu chuẩn hóa giúp học tập giảm dần độ dốc\n",
    "là trình tối ưu hóa phải thực hiện ít bước hơn để tìm ra giải pháp tốt hoặc tối\n",
    "ưu (chi phí toàn cầu tối thiểu), như được minh họa trong hình dưới đây,\n",
    "trong đó các hình con biểu thị bề mặt chi phí như một chức năng của hai\n",
    "trọng số mô hình trong một vấn đề phân loại hai chiều:\n"
   ]
  },
  {
   "cell_type": "markdown",
   "id": "6caa8eba",
   "metadata": {},
   "source": [
    "![anh](Untitled7.png)"
   ]
  },
  {
   "cell_type": "markdown",
   "id": "faf265a7",
   "metadata": {},
   "source": [
    "Chúng ta có thể chuẩn hóa bằng cách sử dụng các phương thức\n",
    "NumPy mean và std :\n"
   ]
  },
  {
   "cell_type": "code",
   "execution_count": 14,
   "id": "7eea29da",
   "metadata": {},
   "outputs": [],
   "source": [
    "# standardize\n",
    "X_std = np.copy(X)\n",
    "X_std[:,0] = (X[:,0] - X[:,0].mean()) / X[:,0].std()\n",
    "X_std[:,1] = (X[:,1] - X[:,1].mean()) / X[:,1].std()\n"
   ]
  },
  {
   "cell_type": "markdown",
   "id": "b0894efd",
   "metadata": {},
   "source": [
    "- Sau khi chuẩn hóa, chúng ta sẽ huấn luyện lại mô hình Tuyến tính bằng\n",
    "cách sử dụng tốc độ học tập không quá nhỏ của η = 0.01:\n"
   ]
  },
  {
   "cell_type": "code",
   "execution_count": 15,
   "id": "5c7421f4",
   "metadata": {
    "scrolled": true
   },
   "outputs": [
    {
     "name": "stderr",
     "output_type": "stream",
     "text": [
      "C:\\Users\\phamt\\AppData\\Local\\Temp\\ipykernel_15208\\432682371.py:19: UserWarning: You passed a edgecolor/edgecolors ('black') for an unfilled marker ('x').  Matplotlib is ignoring the edgecolor in favor of the facecolor.  This behavior may change in the future.\n",
      "  plt.scatter(x=X[y == cl , 0],y=X[y == cl,1],alpha=0.8,c=colors[idx],marker=markers[idx],edgecolors='black')\n",
      "No artists with labels found to put in legend.  Note that artists whose label start with an underscore are ignored when legend() is called with no argument.\n"
     ]
    },
    {
     "data": {
      "image/png": "[encoded data removed]",
      "text/plain": [
       "<Figure size 432x288 with 1 Axes>"
      ]
     },
     "metadata": {
      "needs_background": "light"
     },
     "output_type": "display_data"
    },
    {
     "data": {
      "image/png": "[encoded data removed]",
      "text/plain": [
       "<Figure size 432x288 with 1 Axes>"
      ]
     },
     "metadata": {
      "needs_background": "light"
     },
     "output_type": "display_data"
    }
   ],
   "source": [
    "\n",
    "# learning rate = 0.01\n",
    "aln = AdaptiveLinearNeuron(0.01, 10)\n",
    "aln.fit(X_std,y)\n",
    "\n",
    "# decision region plot\n",
    "plot_decision_regions(X_std, y, classifier=aln)\n",
    "\n",
    "plt.title('Adaptive Linear Neuron - Gradient Descent')\n",
    "plt.xlabel('sepal length [standardized]')\n",
    "plt.ylabel('petal length [standardized]')\n",
    "plt.legend(loc='upper left')\n",
    "plt.show()\n",
    "\n",
    "plt.plot(range(1, len(aln.cost) + 1), aln.cost, marker='o')\n",
    "plt.xlabel('Epochs')\n",
    "plt.ylabel('Sum-squared-error')\n",
    "plt.show()"
   ]
  },
  {
   "cell_type": "markdown",
   "id": "c9ba9102",
   "metadata": {},
   "source": [
    "Như chúng ta có thể thấy trong các biểu đồ, Adaline hiện đã hội tụ sau\n",
    "khi đào tạo về các tính năng được tiêu chuẩn hóa bằng cách sử dụng tỷ lệ\n",
    "học tập η = 0,01. Tuy nhiên, lưu ý rằng SSE vẫn khác không mặc dù tất\n",
    "cả các mẫu đã được phân loại chính xác."
   ]
  },
  {
   "cell_type": "markdown",
   "id": "7c8af0d7",
   "metadata": {},
   "source": [
    "## **Large-scale machine learning and stochastic gradient descent**"
   ]
  },
  {
   "cell_type": "markdown",
   "id": "8d4556bf",
   "metadata": {},
   "source": [
    "![anh](Untitled8.png)"
   ]
  },
  {
   "cell_type": "markdown",
   "id": "59e101ac",
   "metadata": {},
   "source": [
    "Giảm độ dốc ngẫu nhiên (SGD) là một giá trị gần đúng của độ dốc giảm\n",
    "dần, tuy nhiên, nó thường đạt đến sự hội tụ nhanh hơn nhiều do cập nhật\n",
    "trọng số thường xuyên hơn.\n"
   ]
  },
  {
   "cell_type": "markdown",
   "id": "8b9ff098",
   "metadata": {},
   "source": [
    "Vì mỗi độ dốc được tính toán dựa trên một ví dụ đào tạo duy nhất, như\n",
    "được hiển thị trong mẫu của phần trước, nên lỗi sẽ ồn hơn so với độ dốc\n",
    "gốc, điều này cũng có thể có lợi thế là việc giảm độ dốc ngẫu nhiên có\n",
    "thể thoát khỏi cực tiểu cục bộ nông dễ dàng hơn"
   ]
  },
  {
   "cell_type": "markdown",
   "id": "f356eab0",
   "metadata": {},
   "source": [
    "Để thu được kết quả chính xác thông qua giảm dần độ dốc ngẫu nhiên,\n",
    "điều quan trọng là phải trình bày dữ liệu đó theo **thứ tự ngẫu nhiên** , đó\n",
    "là lý do tại sao chúng tôi muốn **xáo trộn** tập huấn luyện cho mỗi kỷ\n",
    "nguyên để ngăn chặn các chu kỳ."
   ]
  },
  {
   "cell_type": "markdown",
   "id": "8bc3ce26",
   "metadata": {},
   "source": [
    "Một ưu điểm khác của việc giảm độ dốc ngẫu nhiên là chúng ta có thể sử\n",
    "dụng nó để học trực tuyến. Trong học tập trực tuyến, mô hình của chúng\n",
    "tôi được đào tạo nhanh chóng khi có dữ liệu đào tạo mới. Điều này đặc\n",
    "biệt hữu ích nếu chúng ta đang tích lũy một lượng lớn dữ liệu, chẳng hạn\n",
    "như dữ liệu khách hàng trong các ứng dụng web. Sử dụng học trực tuyến,\n",
    "hệ thống có thể ngay lập tức thích ứng với các thay đổi và dữ liệu đào tạo\n",
    "có thể bị hủy sau khi cập nhật mô hình nếu không gian lưu trữ có vấn đề.\n"
   ]
  },
  {
   "cell_type": "markdown",
   "id": "3a6f5c51",
   "metadata": {},
   "source": [
    "Với phương pháp giảm độ dố chúng ta cần thực hiện một vài điều chỉnh\n",
    "đối với thuật toán học hiện có để cập nhật trọng số thông qua giảm độ\n",
    "dốc ngẫu nhiên"
   ]
  },
  {
   "cell_type": "markdown",
   "id": "7580a317",
   "metadata": {},
   "source": [
    "Bên trong phương thức điều chỉnh , bây giờ chúng tôi sẽ cập nhật trọng\n",
    "số sau mỗi mẫu đào tạo."
   ]
  },
  {
   "cell_type": "markdown",
   "id": "58f2188b",
   "metadata": {},
   "source": [
    "Hơn nữa, chúng tôi sẽ triển khai một phương pháp **partial_fit** bổ sung ,\n",
    "không khởi tạo lại các trọng số, cho học trực tuyến ."
   ]
  },
  {
   "cell_type": "markdown",
   "id": "9940dca8",
   "metadata": {},
   "source": [
    "Để kiểm tra xem thuật toán của chúng tôi có hội tụ sau khi đào tạo hay\n",
    "không, chúng tôi sẽ tính chi phí là chi phí trung bình của các mẫu đào tạo\n",
    "trong mỗi lần lặp."
   ]
  },
  {
   "cell_type": "markdown",
   "id": "ef1e52c2",
   "metadata": {},
   "source": [
    "Ngoài ra, chúng tôi sẽ xáo trộn dữ liệu đào tạo trước mỗi kỷ nguyên để\n",
    "tránh các chu kỳ khi chúng tôi tối ưu hóa hàm chi phí thông qua tham\n",
    "số **Random_state .**\n"
   ]
  },
  {
   "cell_type": "markdown",
   "id": "2246cf5c",
   "metadata": {},
   "source": [
    "Hàm **np.random.permutationpermutation** trong **suffle_set()** tạo ra một\n",
    "chuỗi ngẫu nhiên các số duy nhất trong phạm vi từ 0 đến 100."
   ]
  },
  {
   "cell_type": "code",
   "execution_count": 18,
   "id": "9d3c7c64",
   "metadata": {},
   "outputs": [
    {
     "ename": "NameError",
     "evalue": "name 'seed' is not defined",
     "output_type": "error",
     "traceback": [
      "\u001b[1;31m---------------------------------------------------------------------------\u001b[0m",
      "\u001b[1;31mNameError\u001b[0m                                 Traceback (most recent call last)",
      "Input \u001b[1;32mIn [18]\u001b[0m, in \u001b[0;36m<cell line: 114>\u001b[1;34m()\u001b[0m\n\u001b[0;32m    111\u001b[0m X_std[:,\u001b[38;5;241m0\u001b[39m] \u001b[38;5;241m=\u001b[39m (X[:,\u001b[38;5;241m0\u001b[39m] \u001b[38;5;241m-\u001b[39m X[:,\u001b[38;5;241m0\u001b[39m]\u001b[38;5;241m.\u001b[39mmean()) \u001b[38;5;241m/\u001b[39m X[:,\u001b[38;5;241m0\u001b[39m]\u001b[38;5;241m.\u001b[39mstd()\n\u001b[0;32m    112\u001b[0m X_std[:,\u001b[38;5;241m1\u001b[39m] \u001b[38;5;241m=\u001b[39m (X[:,\u001b[38;5;241m1\u001b[39m] \u001b[38;5;241m-\u001b[39m X[:,\u001b[38;5;241m1\u001b[39m]\u001b[38;5;241m.\u001b[39mmean()) \u001b[38;5;241m/\u001b[39m X[:,\u001b[38;5;241m1\u001b[39m]\u001b[38;5;241m.\u001b[39mstd()\n\u001b[1;32m--> 114\u001b[0m sgd \u001b[38;5;241m=\u001b[39m \u001b[43mSGD\u001b[49m\u001b[43m(\u001b[49m\u001b[43mniter\u001b[49m\u001b[38;5;241;43m=\u001b[39;49m\u001b[38;5;241;43m15\u001b[39;49m\u001b[43m,\u001b[49m\u001b[43m \u001b[49m\u001b[43mrate\u001b[49m\u001b[38;5;241;43m=\u001b[39;49m\u001b[38;5;241;43m0.01\u001b[39;49m\u001b[43m,\u001b[49m\u001b[43m \u001b[49m\u001b[43mrandom_state\u001b[49m\u001b[38;5;241;43m=\u001b[39;49m\u001b[38;5;241;43m1\u001b[39;49m\u001b[43m)\u001b[49m\n\u001b[0;32m    115\u001b[0m sgd\u001b[38;5;241m.\u001b[39mfit(X_std, y)\n\u001b[0;32m    116\u001b[0m plot_decision_regions(X_std, y, classifier\u001b[38;5;241m=\u001b[39msgd)\n",
      "Input \u001b[1;32mIn [18]\u001b[0m, in \u001b[0;36mSGD.__init__\u001b[1;34m(self, rate, niter, shuffle, random_state)\u001b[0m\n\u001b[0;32m     12\u001b[0m \u001b[38;5;66;03m# Set random state for shuffling and initializing the weights.\u001b[39;00m\n\u001b[0;32m     13\u001b[0m \u001b[38;5;28;01mif\u001b[39;00m random_state:\n\u001b[1;32m---> 14\u001b[0m    \u001b[43mseed\u001b[49m(random_state)\n",
      "\u001b[1;31mNameError\u001b[0m: name 'seed' is not defined"
     ]
    }
   ],
   "source": [
    "# Stochastic Gradient Descent\n",
    "class SGD(object):\n",
    "   def __init__(self, rate = 0.01, niter = 10,\n",
    "                shuffle=True, random_state=None):\n",
    "      self.rate = rate\n",
    "      self.niter = niter\n",
    "      self.weight_initialized = False\n",
    "\n",
    "      # If True, Shuffles training data every epoch\n",
    "      self.shuffle = shuffle\n",
    "\n",
    "      # Set random state for shuffling and initializing the weights.\n",
    "      if random_state:\n",
    "         seed(random_state)\n",
    "\n",
    "   def fit(self, X, y):\n",
    "      \"\"\"Fit training data\n",
    "      X : Training vectors, X.shape : [#samples, #features]\n",
    "      y : Target values, y.shape : [#samples]\n",
    "      \"\"\"\n",
    "\n",
    "      # weights\n",
    "      self.initialize_weights(X.shape[1])\n",
    "\n",
    "      # Cost function\n",
    "      self.cost = []\n",
    "\n",
    "      for i in range(self.niter):\n",
    "         if self.shuffle:\n",
    "            X, y = self.shuffle_set(X, y)\n",
    "         cost = []\n",
    "         for xi, target in zip(X, y):\n",
    "            cost.append(self.update_weights(xi, target))\n",
    "         avg_cost = sum(cost)/len(y)\n",
    "         self.cost.append(avg_cost)\n",
    "      return self\n",
    "\n",
    "   def partial_fit(self, X, y):\n",
    "      \"\"\"Fit training data without reinitializing the weights\"\"\"\n",
    "      if not self.weight_initialized:\n",
    "         self.initialize_weights(X.shape[1])\n",
    "      if y.ravel().shape[0] > 1:\n",
    "         for xi, target in zip(X, y):\n",
    "            self.update_weights(xi, target)\n",
    "      else:\n",
    "         self.up\n",
    "      return self\n",
    "\n",
    "   def shuffle_set(self, X, y):\n",
    "      \"\"\"Shuffle training data\"\"\"\n",
    "      r = np.random.permutation(len(y))\n",
    "      return X[r], y[r]\n",
    "\n",
    "   def initialize_weights(self, m):\n",
    "      \"\"\"Initialize weights to zeros\"\"\"\n",
    "      self.weight = np.zeros(1 + m)\n",
    "      self.weight_initialized = True\n",
    "\n",
    "   def update_weights(self, xi, target):\n",
    "      \"\"\"Apply SGD learning rule to update the weights\"\"\"\n",
    "      output = self.net_input(xi)\n",
    "      error = (target - output)\n",
    "      self.weight[1:] += self.rate * xi.dot(error)\n",
    "      self.weight[0] += self.rate * error\n",
    "      cost = 0.5 * error**2\n",
    "      return cost\n",
    "\n",
    "   def net_input(self, X):\n",
    "      \"\"\"Calculate net input\"\"\"\n",
    "      return np.dot(X, self.weight[1:]) + self.weight[0]\n",
    "\n",
    "   def activation(self, X):\n",
    "      \"\"\"Compute linear activation\"\"\"\n",
    "      return self.net_input(X)\n",
    "\n",
    "   def predict(self, X):\n",
    "      \"\"\"Return class label after unit step\"\"\"\n",
    "      return np.where(self.activation(X) >= 0.0, 1, -1)\n",
    "\n",
    "def plot_decision_regions(X, y, classifier, resolution=0.02):\n",
    "   # setup marker generator and color map\n",
    "   markers = ('s', 'x', 'o', '^', 'v')\n",
    "   colors = ('red', 'blue', 'lightgreen', 'gray', 'cyan')\n",
    "   cmap = ListedColormap(colors[:len(np.unique(y))])\n",
    "\n",
    "   # plot the decision surface\n",
    "   x1_min, x1_max = X[:,  0].min() - 1, X[:, 0].max() + 1\n",
    "   x2_min, x2_max = X[:, 1].min() - 1, X[:, 1].max() + 1\n",
    "   xx1, xx2 = np.meshgrid(np.arange(x1_min, x1_max, resolution),\n",
    "   np.arange(x2_min, x2_max, resolution))\n",
    "   Z = classifier.predict(np.array([xx1.ravel(), xx2.ravel()]).T)\n",
    "   Z = Z.reshape(xx1.shape)\n",
    "   plt.contourf(xx1, xx2, Z, alpha=0.4, cmap=cmap)\n",
    "   plt.xlim(xx1.min(), xx1.max())\n",
    "   plt.ylim(xx2.min(), xx2.max())\n",
    "\n",
    "   # plot class samples\n",
    "   for idx, cl in enumerate(np.unique(y)):\n",
    "      plt.scatter(x=X[y == cl, 0], y=X[y == cl, 1],\n",
    "      alpha=0.8, c=cmap(idx),\n",
    "      marker=markers[idx], label=cl)\n",
    "\n",
    "df = pd.read_csv('https://archive.ics.uci.edu/ml/machine-learning-databases/iris/iris.data', header=None)\n",
    "\n",
    "y = df.iloc[0:100, 4].values\n",
    "y = np.where(y == 'Iris-setosa', -1, 1)\n",
    "X = df.iloc[0:100, [0, 2]].values\n",
    "\n",
    "# standardize\n",
    "X_std = np.copy(X)\n",
    "X_std[:,0] = (X[:,0] - X[:,0].mean()) / X[:,0].std()\n",
    "X_std[:,1] = (X[:,1] - X[:,1].mean()) / X[:,1].std()\n",
    "\n",
    "sgd = SGD(niter=15, rate=0.01, random_state=1)\n",
    "sgd.fit(X_std, y)\n",
    "plot_decision_regions(X_std, y, classifier=sgd)\n",
    "plt.title('SGD - Stochastic Gradient Descent')\n",
    "plt.xlabel('sepal length [standardized]')\n",
    "plt.ylabel('petal length [standardized]')\n",
    "plt.legend(loc='upper left')\n",
    "plt.show()\n",
    "plt.plot(range(1, len(sgd.cost) + 1), sgd.cost, marker='o')\n",
    "plt.xlabel('Epochs')\n",
    "plt.ylabel('Average Cost')\n",
    "plt.show()"
   ]
  },
  {
   "cell_type": "markdown",
   "id": "cf71ac20",
   "metadata": {},
   "source": [
    "## **Summary**"
   ]
  },
  {
   "cell_type": "code",
   "execution_count": null,
   "id": "5d6ec2e8",
   "metadata": {},
   "outputs": [],
   "source": []
  }
 ],
 "metadata": {
  "kernelspec": {
   "display_name": "Python 3 (ipykernel)",
   "language": "python",
   "name": "python3"
  },
  "language_info": {
   "codemirror_mode": {
    "name": "ipython",
    "version": 3
   },
   "file_extension": ".py",
   "mimetype": "text/x-python",
   "name": "python",
   "nbconvert_exporter": "python",
   "pygments_lexer": "ipython3",
   "version": "3.11.4"
  }
 },
 "nbformat": 4,
 "nbformat_minor": 5
}
