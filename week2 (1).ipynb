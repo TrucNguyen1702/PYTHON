{
 "cells": [
  {
   "cell_type": "markdown",
   "id": "501b8037",
   "metadata": {},
   "source": [
    "# # Bài 2: Viết hàm hồi quy đơn biến bậc 1 và bậc 2 như sau\n"
   ]
  },
  {
   "cell_type": "code",
   "execution_count": 1,
   "id": "2f343e5e",
   "metadata": {},
   "outputs": [],
   "source": [
    "import numpy as np\n",
    "from scipy import linalg"
   ]
  },
  {
   "cell_type": "code",
   "execution_count": 2,
   "id": "90278af9",
   "metadata": {},
   "outputs": [],
   "source": [
    "def mean(x): \n",
    "    sum = 0\n",
    "    for i in range(len(x)): \n",
    "        sum += x[i]\n",
    "    mean = sum / len(x)\n",
    "    return mean"
   ]
  },
  {
   "cell_type": "code",
   "execution_count": 3,
   "id": "3eb49cc8",
   "metadata": {},
   "outputs": [],
   "source": [
    "def sum(data):\n",
    "    sum = 0\n",
    "    for value in data: \n",
    "        sum += value\n",
    "    return sum"
   ]
  },
  {
   "cell_type": "code",
   "execution_count": 4,
   "id": "495819e1",
   "metadata": {},
   "outputs": [],
   "source": [
    "data = np.array([[1,2,3,4,5],\n",
    "        [6,7,8,9,10]])"
   ]
  },
  {
   "cell_type": "code",
   "execution_count": 5,
   "id": "1eb8cc87",
   "metadata": {},
   "outputs": [
    {
     "name": "stdout",
     "output_type": "stream",
     "text": [
      "[[ 1  2  3  4  5]\n",
      " [ 6  7  8  9 10]]\n"
     ]
    }
   ],
   "source": [
    "print(data)"
   ]
  },
  {
   "cell_type": "code",
   "execution_count": 12,
   "id": "45ed46a2",
   "metadata": {},
   "outputs": [
    {
     "name": "stdout",
     "output_type": "stream",
     "text": [
      "[ 1  4  9 16 25]\n",
      "3.0\n",
      "[-2. -1.  0.  1.  2.]\n"
     ]
    }
   ],
   "source": [
    "sum(data[1])\n",
    "print(data[0]**2)\n",
    "print(mean(data[0])) \n",
    "print(data[0] - mean(data[0]))"
   ]
  },
  {
   "cell_type": "code",
   "execution_count": 21,
   "id": "f733ebc0",
   "metadata": {},
   "outputs": [],
   "source": [
    "def regression(data, type): \n",
    "    n = len(data[0])\n",
    "    if type == 1:\n",
    "        beta1_hat = sum((data[0] - mean(data[0])) * (data[1] - mean(data[1]))) / sum((data[0] - mean(data[0])) ** 2)\n",
    "        beta0_hat = ((1 / n) * sum(data[1])) - ((1 / n) * (sum(data[0]) *beta1_hat))\n",
    "        return [beta0_hat,beta1_hat]\n",
    "    if type == 2: \n",
    "        sum1 = sum(data[0])\n",
    "        sum2 = sum(data[0] ** 2) \n",
    "        sum3 = sum(data[0] ** 3)\n",
    "        sum4 = sum(data[0] ** 4) \n",
    "        sum5 = sum(data[1]) \n",
    "        sum6 = sum(data[0] * data[1]) \n",
    "        sum7 = sum((data[0] ** 2) * data[1])\n",
    "        A = np.array([[1, sum1, sum2],\n",
    "                      [sum1, sum2, sum3],\n",
    "                      [sum2, sum3, sum4]])\n",
    "        B = np.array([[sum5], [sum6], [sum7]])\n",
    "        result = linalg.solve(A,B) \n",
    "        return result"
   ]
  },
  {
   "cell_type": "code",
   "execution_count": 22,
   "id": "5d8e64ca",
   "metadata": {},
   "outputs": [
    {
     "name": "stdout",
     "output_type": "stream",
     "text": [
      "[5.0, 1.0]\n"
     ]
    }
   ],
   "source": [
    "print(regression(data, 1))"
   ]
  },
  {
   "cell_type": "code",
   "execution_count": 23,
   "id": "ee8bad51",
   "metadata": {},
   "outputs": [
    {
     "data": {
      "text/plain": [
       "array([1, 4, 9])"
      ]
     },
     "execution_count": 23,
     "metadata": {},
     "output_type": "execute_result"
    }
   ],
   "source": [
    "np.array([1,2,3])**2"
   ]
  },
  {
   "cell_type": "code",
   "execution_count": null,
   "id": "c5a9797a",
   "metadata": {},
   "outputs": [],
   "source": []
  },
  {
   "cell_type": "code",
   "execution_count": null,
   "id": "6d1428eb",
   "metadata": {},
   "outputs": [],
   "source": []
  }
 ],
 "metadata": {
  "kernelspec": {
   "display_name": "Python 3 (ipykernel)",
   "language": "python",
   "name": "python3"
  },
  "language_info": {
   "codemirror_mode": {
    "name": "ipython",
    "version": 3
   },
   "file_extension": ".py",
   "mimetype": "text/x-python",
   "name": "python",
   "nbconvert_exporter": "python",
   "pygments_lexer": "ipython3",
   "version": "3.11.4"
  }
 },
 "nbformat": 4,
 "nbformat_minor": 5
}
