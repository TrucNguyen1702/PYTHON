{
 "cells": [
  {
   "cell_type": "code",
   "execution_count": 1,
   "id": "ff944c79",
   "metadata": {},
   "outputs": [],
   "source": [
    "import random as ran\n",
    "import math"
   ]
  },
  {
   "cell_type": "code",
   "execution_count": 27,
   "id": "7a6084f1",
   "metadata": {},
   "outputs": [],
   "source": [
    "def Rolldice():\n",
    "    a = ran.randrange(1,7)\n",
    "    b = ran.randrange(1,7)\n",
    "    Sum = a+b\n",
    "    return Sum\n"
   ]
  },
  {
   "cell_type": "code",
   "execution_count": 33,
   "id": "d7ebc61c",
   "metadata": {},
   "outputs": [],
   "source": [
    "\n",
    "def checkfirsttime(S):\n",
    "    point = S\n",
    "    print (\"point = \", S)\n",
    "    if S==7 or S==11:\n",
    "        print (\"player wins\")\n",
    "    elif S==2 or S==3  or S==12:\n",
    "        print (\"player loses\")\n",
    "    else :\n",
    "        while (S == 7 or S == point):\n",
    "            if S == point:\n",
    "                print(\"player wins by making point\")\n",
    "                break\n",
    "            elif S == 7:\n",
    "                print(\"player loses\")\n",
    "                break\n",
    "            else: \n",
    "                Rolldice()\n"
   ]
  },
  {
   "cell_type": "code",
   "execution_count": 35,
   "id": "644a109b",
   "metadata": {},
   "outputs": [
    {
     "name": "stdout",
     "output_type": "stream",
     "text": [
      "point =  4\n",
      "player wins by making point\n"
     ]
    }
   ],
   "source": [
    "Sum = Rolldice()\n",
    "checkfirsttime(Sum)"
   ]
  },
  {
   "cell_type": "code",
   "execution_count": null,
   "id": "ba128445",
   "metadata": {},
   "outputs": [],
   "source": [
    "+"
   ]
  },
  {
   "cell_type": "code",
   "execution_count": null,
   "id": "e467b9d7",
   "metadata": {},
   "outputs": [],
   "source": []
  }
 ],
 "metadata": {
  "kernelspec": {
   "display_name": "Python 3 (ipykernel)",
   "language": "python",
   "name": "python3"
  },
  "language_info": {
   "codemirror_mode": {
    "name": "ipython",
    "version": 3
   },
   "file_extension": ".py",
   "mimetype": "text/x-python",
   "name": "python",
   "nbconvert_exporter": "python",
   "pygments_lexer": "ipython3",
   "version": "3.9.12"
  }
 },
 "nbformat": 4,
 "nbformat_minor": 5
}
